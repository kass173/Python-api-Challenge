{
 "cells": [
  {
   "cell_type": "markdown",
   "metadata": {},
   "source": [
    "# WeatherPy\n",
    "----\n",
    "\n",
    "#### Note\n",
    "* Instructions have been included for each segment. You do not have to follow them exactly, but they are included to help you think through the steps."
   ]
  },
  {
   "cell_type": "code",
   "execution_count": 85,
   "metadata": {
    "scrolled": true
   },
   "outputs": [],
   "source": [
    "# Dependencies and Setup\n",
    "import matplotlib.pyplot as plt\n",
    "import pandas as pd\n",
    "import numpy as np\n",
    "import requests\n",
    "import time\n",
    "from datetime import datetime\n",
    "from scipy.stats import linregress\n",
    "import scipy.stats as st\n",
    "\n",
    "# Import API key\n",
    "from api_keys import weather_api_key\n",
    "\n",
    "# Incorporated citipy to determine city based on latitude and longitude\n",
    "from citipy import citipy\n",
    "\n",
    "# Output File (CSV)\n",
    "output_data_file = \"../output_data/cities.csv\"\n",
    "\n",
    "# Range of latitudes and longitudes\n",
    "lat_range = (-90, 90)\n",
    "lng_range = (-180, 180)"
   ]
  },
  {
   "cell_type": "markdown",
   "metadata": {},
   "source": [
    "## Generate Cities List"
   ]
  },
  {
   "cell_type": "code",
   "execution_count": 86,
   "metadata": {},
   "outputs": [
    {
     "data": {
      "text/plain": [
       "613"
      ]
     },
     "execution_count": 86,
     "metadata": {},
     "output_type": "execute_result"
    }
   ],
   "source": [
    "# List for holding lat_lngs and cities\n",
    "lat_lngs = []\n",
    "cities = []\n",
    "\n",
    "# Create a set of random lat and lng combinations\n",
    "lats = np.random.uniform(lat_range[0], lat_range[1], size=1500)\n",
    "lngs = np.random.uniform(lng_range[0], lng_range[1], size=1500)\n",
    "lat_lngs = zip(lats, lngs)\n",
    "\n",
    "# Identify nearest city for each lat, lng combination\n",
    "for lat_lng in lat_lngs:\n",
    "    city = citipy.nearest_city(lat_lng[0], lat_lng[1]).city_name\n",
    "    \n",
    "    # If the city is unique, then add it to a our cities list\n",
    "    if city not in cities:\n",
    "        cities.append(city)\n",
    "\n",
    "# Print the city count to confirm sufficient count\n",
    "len(cities)"
   ]
  },
  {
   "cell_type": "markdown",
   "metadata": {},
   "source": [
    "### Perform API Calls\n",
    "* Perform a weather check on each city using a series of successive API calls.\n",
    "* Include a print log of each city as it'sbeing processed (with the city number and city name).\n"
   ]
  },
  {
   "cell_type": "code",
   "execution_count": 87,
   "metadata": {},
   "outputs": [],
   "source": [
    "# Save config information.\n",
    "url = \"http://api.openweathermap.org/data/2.5/weather?\"\n",
    "units = \"imperial\"\n",
    "\n",
    "# Build partial query URL\n",
    "query_url = f\"{url}appid={weather_api_key}&units={units}&q=\""
   ]
  },
  {
   "cell_type": "code",
   "execution_count": 88,
   "metadata": {
    "collapsed": true
   },
   "outputs": [
    {
     "name": "stdout",
     "output_type": "stream",
     "text": [
      "Beginning Data Retrieval\n",
      "--------------------------------------------\n",
      "Processing Record 1 of Set 1 | ust-kuyga\n",
      "Processing Record 2 of Set 1 | punta arenas\n",
      "Processing Record 3 of Set 1 | hermanus\n",
      "Processing Record 4 of Set 1 | okakarara\n",
      "Processing Record 5 of Set 1 | illoqqortoormiut\n",
      "City not found. Skipping...\n",
      "Processing Record 1 of Set 1 : illoqqortoormiut\n",
      "Processing Record 6 of Set 1 | rudbar\n",
      "Processing Record 7 of Set 1 | marsaxlokk\n",
      "Processing Record 8 of Set 1 | hobart\n",
      "Processing Record 9 of Set 1 | mount isa\n",
      "Processing Record 10 of Set 1 | mataura\n",
      "Processing Record 11 of Set 1 | jinchang\n",
      "Processing Record 12 of Set 1 | tasiilaq\n",
      "Processing Record 13 of Set 1 | port alfred\n",
      "Processing Record 14 of Set 1 | bluff\n",
      "Processing Record 15 of Set 1 | tumannyy\n",
      "City not found. Skipping...\n",
      "Processing Record 2 of Set 1 : tumannyy\n",
      "Processing Record 16 of Set 1 | new norfolk\n",
      "Processing Record 17 of Set 1 | saint-augustin\n",
      "Processing Record 18 of Set 1 | kruisfontein\n",
      "Processing Record 19 of Set 1 | wageningen\n",
      "Processing Record 20 of Set 1 | kapaa\n",
      "Processing Record 21 of Set 1 | ushuaia\n",
      "Processing Record 22 of Set 1 | severo-kurilsk\n",
      "Processing Record 23 of Set 1 | jefferson city\n",
      "Processing Record 24 of Set 1 | barrow\n",
      "Processing Record 25 of Set 1 | polunochnoye\n",
      "Processing Record 26 of Set 1 | rikitea\n",
      "Processing Record 27 of Set 1 | sumbe\n",
      "Processing Record 28 of Set 1 | north bend\n",
      "Processing Record 29 of Set 1 | grand river south east\n",
      "City not found. Skipping...\n",
      "Processing Record 3 of Set 1 : grand river south east\n",
      "Processing Record 30 of Set 1 | airai\n",
      "Processing Record 31 of Set 1 | synya\n",
      "Processing Record 32 of Set 1 | atuona\n",
      "Processing Record 33 of Set 1 | kalmar\n",
      "Processing Record 34 of Set 1 | port lincoln\n",
      "Processing Record 35 of Set 1 | santa helena de goias\n",
      "Processing Record 36 of Set 1 | vao\n",
      "Processing Record 37 of Set 1 | ancud\n",
      "Processing Record 38 of Set 1 | esso\n",
      "Processing Record 39 of Set 1 | taolanaro\n",
      "City not found. Skipping...\n",
      "Processing Record 4 of Set 1 : taolanaro\n",
      "Processing Record 40 of Set 1 | sussex\n",
      "Processing Record 41 of Set 1 | yellowknife\n",
      "Processing Record 42 of Set 1 | ixtapa\n",
      "Processing Record 43 of Set 1 | payo\n",
      "Processing Record 44 of Set 1 | ishigaki\n",
      "Processing Record 45 of Set 1 | kodiak\n",
      "Processing Record 46 of Set 1 | arraial do cabo\n",
      "Processing Record 47 of Set 1 | samusu\n",
      "City not found. Skipping...\n",
      "Processing Record 5 of Set 1 : samusu\n",
      "Processing Record 48 of Set 1 | hithadhoo\n",
      "Processing Record 49 of Set 1 | karasjok\n",
      "Processing Record 50 of Set 1 | souillac\n",
      "Processing Record 1 of Set 2 | bredasdorp\n",
      "Processing Record 2 of Set 2 | les cayes\n",
      "Processing Record 3 of Set 2 | cape town\n",
      "Processing Record 4 of Set 2 | galesong\n",
      "Processing Record 5 of Set 2 | kamenka\n",
      "Processing Record 6 of Set 2 | kerki\n",
      "City not found. Skipping...\n",
      "Processing Record 6 of Set 1 : kerki\n",
      "Processing Record 7 of Set 2 | shumskiy\n",
      "Processing Record 8 of Set 2 | tuatapere\n",
      "Processing Record 9 of Set 2 | dongsheng\n",
      "Processing Record 10 of Set 2 | puerto ayora\n",
      "Processing Record 11 of Set 2 | waingapu\n",
      "Processing Record 12 of Set 2 | dunedin\n",
      "Processing Record 13 of Set 2 | marystown\n",
      "Processing Record 14 of Set 2 | neiafu\n",
      "Processing Record 15 of Set 2 | praia da vitoria\n",
      "Processing Record 16 of Set 2 | westport\n",
      "Processing Record 17 of Set 2 | huarmey\n",
      "Processing Record 18 of Set 2 | kenai\n",
      "Processing Record 19 of Set 2 | namibe\n",
      "Processing Record 20 of Set 2 | faanui\n",
      "Processing Record 21 of Set 2 | mys shmidta\n",
      "City not found. Skipping...\n",
      "Processing Record 7 of Set 1 : mys shmidta\n",
      "Processing Record 22 of Set 2 | vila velha\n",
      "Processing Record 23 of Set 2 | busselton\n",
      "Processing Record 24 of Set 2 | ust-charyshskaya pristan\n",
      "Processing Record 25 of Set 2 | albany\n",
      "Processing Record 26 of Set 2 | vaini\n",
      "Processing Record 27 of Set 2 | yulara\n",
      "Processing Record 28 of Set 2 | muros\n",
      "Processing Record 29 of Set 2 | nikolskoye\n",
      "Processing Record 30 of Set 2 | thompson\n",
      "Processing Record 31 of Set 2 | abilene\n",
      "Processing Record 32 of Set 2 | toulepleu\n",
      "City not found. Skipping...\n",
      "Processing Record 8 of Set 1 : toulepleu\n",
      "Processing Record 33 of Set 2 | alotau\n",
      "City not found. Skipping...\n",
      "Processing Record 9 of Set 1 : alotau\n",
      "Processing Record 34 of Set 2 | durango\n",
      "Processing Record 35 of Set 2 | pevek\n",
      "Processing Record 36 of Set 2 | zhigansk\n",
      "Processing Record 37 of Set 2 | cegled\n",
      "Processing Record 38 of Set 2 | khatanga\n",
      "Processing Record 39 of Set 2 | tukrah\n",
      "Processing Record 40 of Set 2 | ribeira grande\n",
      "Processing Record 41 of Set 2 | cayenne\n",
      "Processing Record 42 of Set 2 | cururupu\n",
      "Processing Record 43 of Set 2 | leningradskiy\n",
      "Processing Record 44 of Set 2 | aykhal\n",
      "Processing Record 45 of Set 2 | brookhaven\n",
      "Processing Record 46 of Set 2 | carutapera\n",
      "Processing Record 47 of Set 2 | umm durman\n",
      "City not found. Skipping...\n",
      "Processing Record 10 of Set 1 : umm durman\n",
      "Processing Record 48 of Set 2 | pasni\n",
      "Processing Record 49 of Set 2 | bambanglipuro\n",
      "Processing Record 50 of Set 2 | jamestown\n",
      "Processing Record 1 of Set 3 | anju\n",
      "Processing Record 2 of Set 3 | camanci\n",
      "City not found. Skipping...\n",
      "Processing Record 11 of Set 1 : camanci\n",
      "Processing Record 3 of Set 3 | chapais\n",
      "Processing Record 4 of Set 3 | mandera\n",
      "Processing Record 5 of Set 3 | sao joao da barra\n",
      "Processing Record 6 of Set 3 | provideniya\n",
      "Processing Record 7 of Set 3 | zhezkazgan\n",
      "Processing Record 8 of Set 3 | sfantu gheorghe\n",
      "Processing Record 9 of Set 3 | maksatikha\n",
      "Processing Record 10 of Set 3 | kaitangata\n",
      "Processing Record 11 of Set 3 | husavik\n",
      "Processing Record 12 of Set 3 | ostrovnoy\n",
      "Processing Record 13 of Set 3 | lazaro cardenas\n",
      "Processing Record 14 of Set 3 | belushya guba\n",
      "City not found. Skipping...\n",
      "Processing Record 12 of Set 1 : belushya guba\n",
      "Processing Record 15 of Set 3 | umea\n",
      "Processing Record 16 of Set 3 | nabire\n",
      "Processing Record 17 of Set 3 | lebu\n",
      "Processing Record 18 of Set 3 | westerland\n",
      "Processing Record 19 of Set 3 | butaritari\n",
      "Processing Record 20 of Set 3 | katsuura\n",
      "Processing Record 21 of Set 3 | asilah\n",
      "Processing Record 22 of Set 3 | tabou\n",
      "Processing Record 23 of Set 3 | paamiut\n",
      "Processing Record 24 of Set 3 | kungurtug\n",
      "Processing Record 25 of Set 3 | saryshagan\n",
      "City not found. Skipping...\n",
      "Processing Record 13 of Set 1 : saryshagan\n",
      "Processing Record 26 of Set 3 | togur\n",
      "Processing Record 27 of Set 3 | tarabuco\n",
      "Processing Record 28 of Set 3 | denpasar\n",
      "Processing Record 29 of Set 3 | panama city\n",
      "Processing Record 30 of Set 3 | maarianhamina\n",
      "Processing Record 31 of Set 3 | eirunepe\n",
      "Processing Record 32 of Set 3 | constantine\n",
      "Processing Record 33 of Set 3 | bandarbeyla\n",
      "Processing Record 34 of Set 3 | brae\n",
      "Processing Record 35 of Set 3 | kirundo\n",
      "Processing Record 36 of Set 3 | kavieng\n",
      "Processing Record 37 of Set 3 | lorengau\n",
      "Processing Record 38 of Set 3 | harper\n",
      "Processing Record 39 of Set 3 | pangnirtung\n",
      "Processing Record 40 of Set 3 | corpus christi\n",
      "Processing Record 41 of Set 3 | mount gambier\n",
      "Processing Record 42 of Set 3 | saskylakh\n",
      "Processing Record 43 of Set 3 | pisco\n",
      "Processing Record 44 of Set 3 | qaanaaq\n",
      "Processing Record 45 of Set 3 | sao filipe\n",
      "Processing Record 46 of Set 3 | saldanha\n",
      "Processing Record 47 of Set 3 | qostanay\n",
      "Processing Record 48 of Set 3 | flinders\n",
      "Processing Record 49 of Set 3 | hilo\n",
      "Processing Record 50 of Set 3 | thinadhoo\n",
      "Processing Record 1 of Set 4 | castro\n",
      "Processing Record 2 of Set 4 | kaa-khem\n",
      "Processing Record 3 of Set 4 | palabuhanratu\n",
      "City not found. Skipping...\n",
      "Processing Record 14 of Set 1 : palabuhanratu\n",
      "Processing Record 4 of Set 4 | singaraja\n",
      "Processing Record 5 of Set 4 | jalu\n",
      "Processing Record 6 of Set 4 | bonthe\n",
      "Processing Record 7 of Set 4 | mahebourg\n",
      "Processing Record 8 of Set 4 | morgantown\n",
      "Processing Record 9 of Set 4 | talnakh\n",
      "Processing Record 10 of Set 4 | kahului\n",
      "Processing Record 11 of Set 4 | twentynine palms\n",
      "Processing Record 12 of Set 4 | chokurdakh\n",
      "Processing Record 13 of Set 4 | villarrica\n",
      "Processing Record 14 of Set 4 | dingle\n",
      "Processing Record 15 of Set 4 | carnarvon\n",
      "Processing Record 16 of Set 4 | banda aceh\n",
      "Processing Record 17 of Set 4 | sawakin\n",
      "Processing Record 18 of Set 4 | cidreira\n",
      "Processing Record 19 of Set 4 | swift current\n",
      "Processing Record 20 of Set 4 | zhigalovo\n",
      "Processing Record 21 of Set 4 | korla\n",
      "Processing Record 22 of Set 4 | hobyo\n",
      "Processing Record 23 of Set 4 | balugaon\n",
      "Processing Record 24 of Set 4 | kaeo\n",
      "Processing Record 25 of Set 4 | tidore\n"
     ]
    },
    {
     "name": "stdout",
     "output_type": "stream",
     "text": [
      "City not found. Skipping...\n",
      "Processing Record 15 of Set 1 : tidore\n",
      "Processing Record 26 of Set 4 | tagusao\n",
      "Processing Record 27 of Set 4 | saint george\n",
      "Processing Record 28 of Set 4 | lakes entrance\n",
      "Processing Record 29 of Set 4 | soyo\n",
      "Processing Record 30 of Set 4 | taoudenni\n",
      "Processing Record 31 of Set 4 | george town\n",
      "Processing Record 32 of Set 4 | marsa matruh\n",
      "Processing Record 33 of Set 4 | tsihombe\n",
      "City not found. Skipping...\n",
      "Processing Record 16 of Set 1 : tsihombe\n",
      "Processing Record 34 of Set 4 | cabo san lucas\n",
      "Processing Record 35 of Set 4 | bireun\n",
      "Processing Record 36 of Set 4 | kutina\n",
      "Processing Record 37 of Set 4 | tawkar\n",
      "City not found. Skipping...\n",
      "Processing Record 17 of Set 1 : tawkar\n",
      "Processing Record 38 of Set 4 | culpeper\n",
      "Processing Record 39 of Set 4 | norman wells\n",
      "Processing Record 40 of Set 4 | luderitz\n",
      "Processing Record 41 of Set 4 | hofn\n",
      "Processing Record 42 of Set 4 | saint-philippe\n",
      "Processing Record 43 of Set 4 | beibei\n",
      "Processing Record 44 of Set 4 | lusambo\n",
      "Processing Record 45 of Set 4 | upernavik\n",
      "Processing Record 46 of Set 4 | beringovskiy\n",
      "Processing Record 47 of Set 4 | chicama\n",
      "Processing Record 48 of Set 4 | mozarlandia\n",
      "Processing Record 49 of Set 4 | leo\n",
      "Processing Record 50 of Set 4 | lazarev\n",
      "Processing Record 1 of Set 5 | hasaki\n",
      "Processing Record 2 of Set 5 | iqaluit\n",
      "Processing Record 3 of Set 5 | pafos\n",
      "Processing Record 4 of Set 5 | qandala\n",
      "Processing Record 5 of Set 5 | san vicente\n",
      "Processing Record 6 of Set 5 | abaza\n",
      "Processing Record 7 of Set 5 | volchikha\n",
      "Processing Record 8 of Set 5 | xining\n",
      "Processing Record 9 of Set 5 | tazovskiy\n",
      "Processing Record 10 of Set 5 | kavaratti\n",
      "Processing Record 11 of Set 5 | ilulissat\n",
      "Processing Record 12 of Set 5 | lagoa\n",
      "Processing Record 13 of Set 5 | wahran\n",
      "City not found. Skipping...\n",
      "Processing Record 18 of Set 1 : wahran\n",
      "Processing Record 14 of Set 5 | pinhao\n",
      "Processing Record 15 of Set 5 | barentsburg\n",
      "City not found. Skipping...\n",
      "Processing Record 19 of Set 1 : barentsburg\n",
      "Processing Record 16 of Set 5 | east london\n",
      "Processing Record 17 of Set 5 | rach gia\n",
      "Processing Record 18 of Set 5 | bilibino\n",
      "Processing Record 19 of Set 5 | tezu\n",
      "Processing Record 20 of Set 5 | khani\n",
      "Processing Record 21 of Set 5 | varhaug\n",
      "Processing Record 22 of Set 5 | idah\n",
      "Processing Record 23 of Set 5 | trzebiatow\n",
      "Processing Record 24 of Set 5 | labuhan\n",
      "Processing Record 25 of Set 5 | santa maria del oro\n",
      "Processing Record 26 of Set 5 | araouane\n",
      "Processing Record 27 of Set 5 | geraldton\n",
      "Processing Record 28 of Set 5 | valenzuela\n",
      "Processing Record 29 of Set 5 | dombarovskiy\n",
      "Processing Record 30 of Set 5 | bengkulu\n",
      "Processing Record 31 of Set 5 | port-cartier\n",
      "Processing Record 32 of Set 5 | clyde river\n",
      "Processing Record 33 of Set 5 | guerrero negro\n",
      "Processing Record 34 of Set 5 | vardo\n",
      "Processing Record 35 of Set 5 | chuy\n",
      "Processing Record 36 of Set 5 | comodoro rivadavia\n",
      "Processing Record 37 of Set 5 | kampot\n",
      "Processing Record 38 of Set 5 | arlit\n",
      "Processing Record 39 of Set 5 | tomatlan\n",
      "Processing Record 40 of Set 5 | ampanihy\n",
      "Processing Record 41 of Set 5 | cherskiy\n",
      "Processing Record 42 of Set 5 | riyadh\n",
      "Processing Record 43 of Set 5 | nizhneyansk\n",
      "City not found. Skipping...\n",
      "Processing Record 20 of Set 1 : nizhneyansk\n",
      "Processing Record 44 of Set 5 | taunggyi\n",
      "Processing Record 45 of Set 5 | avarua\n",
      "Processing Record 46 of Set 5 | visnes\n",
      "Processing Record 47 of Set 5 | svetlaya\n",
      "Processing Record 48 of Set 5 | baykit\n",
      "Processing Record 49 of Set 5 | sungaipenuh\n",
      "Processing Record 50 of Set 5 | tateyama\n",
      "Processing Record 1 of Set 6 | casablanca\n",
      "Processing Record 2 of Set 6 | padang\n",
      "Processing Record 3 of Set 6 | mogadishu\n",
      "Processing Record 4 of Set 6 | hobe sound\n",
      "Processing Record 5 of Set 6 | mchinji\n",
      "Processing Record 6 of Set 6 | morros\n",
      "Processing Record 7 of Set 6 | lompoc\n",
      "Processing Record 8 of Set 6 | bubaque\n",
      "Processing Record 9 of Set 6 | preeceville\n",
      "Processing Record 10 of Set 6 | tarko-sale\n",
      "Processing Record 11 of Set 6 | saint anthony\n",
      "Processing Record 12 of Set 6 | caravelas\n",
      "Processing Record 13 of Set 6 | klaksvik\n",
      "Processing Record 14 of Set 6 | nadvoitsy\n",
      "Processing Record 15 of Set 6 | la asuncion\n",
      "Processing Record 16 of Set 6 | san patricio\n",
      "Processing Record 17 of Set 6 | canto do buriti\n",
      "Processing Record 18 of Set 6 | muroto\n",
      "Processing Record 19 of Set 6 | aklavik\n",
      "Processing Record 20 of Set 6 | boa vista\n",
      "Processing Record 21 of Set 6 | vaitupu\n",
      "City not found. Skipping...\n",
      "Processing Record 21 of Set 1 : vaitupu\n",
      "Processing Record 22 of Set 6 | ponta do sol\n",
      "Processing Record 23 of Set 6 | jizan\n",
      "Processing Record 24 of Set 6 | brewster\n",
      "Processing Record 25 of Set 6 | warqla\n",
      "City not found. Skipping...\n",
      "Processing Record 22 of Set 1 : warqla\n",
      "Processing Record 26 of Set 6 | belmonte\n",
      "Processing Record 27 of Set 6 | makubetsu\n",
      "Processing Record 28 of Set 6 | namatanai\n",
      "Processing Record 29 of Set 6 | longyearbyen\n",
      "Processing Record 30 of Set 6 | starosubkhangulovo\n",
      "Processing Record 31 of Set 6 | galgani\n",
      "City not found. Skipping...\n",
      "Processing Record 23 of Set 1 : galgani\n",
      "Processing Record 32 of Set 6 | attawapiskat\n",
      "City not found. Skipping...\n",
      "Processing Record 24 of Set 1 : attawapiskat\n",
      "Processing Record 33 of Set 6 | palmares do sul\n",
      "Processing Record 34 of Set 6 | makakilo city\n",
      "Processing Record 35 of Set 6 | pamplona\n",
      "Processing Record 36 of Set 6 | alofi\n",
      "Processing Record 37 of Set 6 | tiruvottiyur\n",
      "City not found. Skipping...\n",
      "Processing Record 25 of Set 1 : tiruvottiyur\n",
      "Processing Record 38 of Set 6 | batagay\n",
      "Processing Record 39 of Set 6 | mnogovershinnyy\n",
      "Processing Record 40 of Set 6 | stephenville crossing\n",
      "Processing Record 41 of Set 6 | champerico\n",
      "Processing Record 42 of Set 6 | sirsi\n",
      "Processing Record 43 of Set 6 | bambous virieux\n",
      "Processing Record 44 of Set 6 | lhuntshi\n",
      "City not found. Skipping...\n",
      "Processing Record 26 of Set 1 : lhuntshi\n",
      "Processing Record 45 of Set 6 | okhotsk\n",
      "Processing Record 46 of Set 6 | san cristobal\n",
      "Processing Record 47 of Set 6 | bud\n",
      "Processing Record 48 of Set 6 | taltal\n",
      "Processing Record 49 of Set 6 | atar\n",
      "Processing Record 50 of Set 6 | lodja\n",
      "Processing Record 1 of Set 7 | dubai\n",
      "Processing Record 2 of Set 7 | zolotinka\n",
      "City not found. Skipping...\n",
      "Processing Record 27 of Set 1 : zolotinka\n",
      "Processing Record 3 of Set 7 | kieta\n",
      "Processing Record 4 of Set 7 | bethel\n",
      "Processing Record 5 of Set 7 | asau\n",
      "Processing Record 6 of Set 7 | port elizabeth\n",
      "Processing Record 7 of Set 7 | anadyr\n",
      "Processing Record 8 of Set 7 | burnie\n",
      "Processing Record 9 of Set 7 | breytovo\n",
      "Processing Record 10 of Set 7 | maltahohe\n",
      "Processing Record 11 of Set 7 | havoysund\n",
      "Processing Record 12 of Set 7 | salalah\n",
      "Processing Record 13 of Set 7 | dikson\n",
      "Processing Record 14 of Set 7 | san felipe\n",
      "Processing Record 15 of Set 7 | kasongo-lunda\n",
      "Processing Record 16 of Set 7 | eidsvag\n",
      "Processing Record 17 of Set 7 | georgetown\n",
      "Processing Record 18 of Set 7 | kihei\n",
      "Processing Record 19 of Set 7 | morondava\n",
      "Processing Record 20 of Set 7 | meoqui\n",
      "Processing Record 21 of Set 7 | isangel\n",
      "Processing Record 22 of Set 7 | matucana\n",
      "Processing Record 23 of Set 7 | gbarnga\n",
      "Processing Record 24 of Set 7 | shimoda\n",
      "Processing Record 25 of Set 7 | yanan\n",
      "City not found. Skipping...\n",
      "Processing Record 28 of Set 1 : yanan\n",
      "Processing Record 26 of Set 7 | alta floresta\n",
      "Processing Record 27 of Set 7 | yavatmal\n",
      "Processing Record 28 of Set 7 | hattiesburg\n",
      "Processing Record 29 of Set 7 | marsh harbour\n",
      "Processing Record 30 of Set 7 | ketchikan\n",
      "Processing Record 31 of Set 7 | tura\n",
      "Processing Record 32 of Set 7 | chupei\n",
      "City not found. Skipping...\n",
      "Processing Record 29 of Set 1 : chupei\n",
      "Processing Record 33 of Set 7 | linxia\n",
      "Processing Record 34 of Set 7 | los llanos de aridane\n",
      "Processing Record 35 of Set 7 | kuche\n",
      "City not found. Skipping...\n",
      "Processing Record 30 of Set 1 : kuche\n",
      "Processing Record 36 of Set 7 | byron bay\n",
      "Processing Record 37 of Set 7 | krasnoselkup\n",
      "Processing Record 38 of Set 7 | yermakovskoye\n",
      "Processing Record 39 of Set 7 | wulanhaote\n",
      "City not found. Skipping...\n",
      "Processing Record 31 of Set 1 : wulanhaote\n",
      "Processing Record 40 of Set 7 | xuddur\n",
      "Processing Record 41 of Set 7 | sentyabrskiy\n",
      "City not found. Skipping...\n",
      "Processing Record 32 of Set 1 : sentyabrskiy\n",
      "Processing Record 42 of Set 7 | hamilton\n",
      "Processing Record 43 of Set 7 | coihaique\n",
      "Processing Record 44 of Set 7 | aguimes\n",
      "Processing Record 45 of Set 7 | narsaq\n",
      "Processing Record 46 of Set 7 | pacific grove\n"
     ]
    },
    {
     "name": "stdout",
     "output_type": "stream",
     "text": [
      "Processing Record 47 of Set 7 | agua dulce\n",
      "Processing Record 48 of Set 7 | yumen\n",
      "Processing Record 49 of Set 7 | constitucion\n",
      "Processing Record 50 of Set 7 | colesberg\n",
      "Processing Record 1 of Set 8 | uige\n",
      "Processing Record 2 of Set 8 | viligili\n",
      "City not found. Skipping...\n",
      "Processing Record 33 of Set 1 : viligili\n",
      "Processing Record 3 of Set 8 | kollam\n",
      "Processing Record 4 of Set 8 | sarai alamgir\n",
      "Processing Record 5 of Set 8 | rocha\n",
      "Processing Record 6 of Set 8 | buraydah\n",
      "Processing Record 7 of Set 8 | sokolniki\n",
      "Processing Record 8 of Set 8 | nanortalik\n",
      "Processing Record 9 of Set 8 | yarada\n",
      "Processing Record 10 of Set 8 | amderma\n",
      "City not found. Skipping...\n",
      "Processing Record 34 of Set 1 : amderma\n",
      "Processing Record 11 of Set 8 | fairbanks\n",
      "Processing Record 12 of Set 8 | barra do garcas\n",
      "Processing Record 13 of Set 8 | ponta delgada\n",
      "Processing Record 14 of Set 8 | qaqortoq\n",
      "Processing Record 15 of Set 8 | mattawa\n",
      "Processing Record 16 of Set 8 | buchanan\n",
      "Processing Record 17 of Set 8 | mariestad\n",
      "Processing Record 18 of Set 8 | sinnamary\n",
      "Processing Record 19 of Set 8 | port hardy\n",
      "Processing Record 20 of Set 8 | bogorodskoye\n",
      "Processing Record 21 of Set 8 | kinshasa\n",
      "Processing Record 22 of Set 8 | rosetta\n",
      "Processing Record 23 of Set 8 | omboue\n",
      "Processing Record 24 of Set 8 | shelburne\n",
      "Processing Record 25 of Set 8 | mokhsogollokh\n",
      "Processing Record 26 of Set 8 | longjiang\n",
      "Processing Record 27 of Set 8 | batagay-alyta\n",
      "Processing Record 28 of Set 8 | coquimbo\n",
      "Processing Record 29 of Set 8 | palmaner\n",
      "Processing Record 30 of Set 8 | tuktoyaktuk\n",
      "Processing Record 31 of Set 8 | llano de piedra\n",
      "Processing Record 32 of Set 8 | el monte\n",
      "Processing Record 33 of Set 8 | lumina\n",
      "Processing Record 34 of Set 8 | staryy nadym\n",
      "Processing Record 35 of Set 8 | havre-saint-pierre\n",
      "Processing Record 36 of Set 8 | tiksi\n",
      "Processing Record 37 of Set 8 | chagda\n",
      "City not found. Skipping...\n",
      "Processing Record 35 of Set 1 : chagda\n",
      "Processing Record 38 of Set 8 | berlevag\n",
      "Processing Record 39 of Set 8 | laguna\n",
      "Processing Record 40 of Set 8 | shahr-e kord\n",
      "Processing Record 41 of Set 8 | torbay\n",
      "Processing Record 42 of Set 8 | ust-tsilma\n",
      "Processing Record 43 of Set 8 | rio tinto\n",
      "Processing Record 44 of Set 8 | rome\n",
      "Processing Record 45 of Set 8 | kununurra\n",
      "Processing Record 46 of Set 8 | samsun\n",
      "Processing Record 47 of Set 8 | olinda\n",
      "Processing Record 48 of Set 8 | broome\n",
      "Processing Record 49 of Set 8 | causapscal\n",
      "Processing Record 50 of Set 8 | chamalieres\n",
      "Processing Record 1 of Set 9 | bongandanga\n",
      "Processing Record 2 of Set 9 | shalinskoye\n",
      "Processing Record 3 of Set 9 | mandali\n",
      "Processing Record 4 of Set 9 | christchurch\n",
      "Processing Record 5 of Set 9 | sao paulo de olivenca\n",
      "Processing Record 6 of Set 9 | gornopravdinsk\n",
      "Processing Record 7 of Set 9 | jinka\n",
      "Processing Record 8 of Set 9 | sorland\n",
      "Processing Record 9 of Set 9 | mar del plata\n",
      "Processing Record 10 of Set 9 | berbera\n",
      "Processing Record 11 of Set 9 | mastic beach\n",
      "Processing Record 12 of Set 9 | sorong\n",
      "Processing Record 13 of Set 9 | camacha\n",
      "Processing Record 14 of Set 9 | nortelandia\n",
      "Processing Record 15 of Set 9 | mahanoro\n",
      "Processing Record 16 of Set 9 | sitka\n",
      "Processing Record 17 of Set 9 | boyolangu\n",
      "Processing Record 18 of Set 9 | birjand\n",
      "Processing Record 19 of Set 9 | giddalur\n",
      "Processing Record 20 of Set 9 | tilichiki\n",
      "Processing Record 21 of Set 9 | maumere\n",
      "Processing Record 22 of Set 9 | minab\n",
      "Processing Record 23 of Set 9 | calbuco\n",
      "Processing Record 24 of Set 9 | plettenberg bay\n",
      "Processing Record 25 of Set 9 | dabakala\n",
      "Processing Record 26 of Set 9 | lavrentiya\n",
      "Processing Record 27 of Set 9 | sibolga\n",
      "Processing Record 28 of Set 9 | galle\n",
      "Processing Record 29 of Set 9 | samarai\n",
      "Processing Record 30 of Set 9 | teya\n",
      "Processing Record 31 of Set 9 | bairiki\n",
      "Processing Record 32 of Set 9 | zvishavane\n",
      "Processing Record 33 of Set 9 | jian\n",
      "Processing Record 34 of Set 9 | kuhestan\n",
      "City not found. Skipping...\n",
      "Processing Record 36 of Set 1 : kuhestan\n",
      "Processing Record 35 of Set 9 | mayachnyy\n",
      "Processing Record 36 of Set 9 | gravdal\n",
      "Processing Record 37 of Set 9 | baherden\n",
      "Processing Record 38 of Set 9 | nizhnyaya tavda\n",
      "Processing Record 39 of Set 9 | surt\n",
      "Processing Record 40 of Set 9 | olenegorsk\n",
      "Processing Record 41 of Set 9 | faya\n",
      "Processing Record 42 of Set 9 | saint-georges\n",
      "Processing Record 43 of Set 9 | acari\n",
      "Processing Record 44 of Set 9 | moree\n",
      "Processing Record 45 of Set 9 | louisbourg\n",
      "City not found. Skipping...\n",
      "Processing Record 37 of Set 1 : louisbourg\n",
      "Processing Record 46 of Set 9 | nishihara\n",
      "Processing Record 47 of Set 9 | tommot\n",
      "Processing Record 48 of Set 9 | ekibastuz\n",
      "Processing Record 49 of Set 9 | masoko\n",
      "Processing Record 50 of Set 9 | guaraniacu\n",
      "Processing Record 1 of Set 10 | krutikha\n",
      "Processing Record 2 of Set 10 | cockburn town\n",
      "Processing Record 3 of Set 10 | kadur\n",
      "Processing Record 4 of Set 10 | kipushi\n",
      "Processing Record 5 of Set 10 | sarahan\n",
      "Processing Record 6 of Set 10 | tarakan\n",
      "Processing Record 7 of Set 10 | necochea\n",
      "Processing Record 8 of Set 10 | lubango\n",
      "Processing Record 9 of Set 10 | uyskoye\n",
      "Processing Record 10 of Set 10 | hervey bay\n",
      "Processing Record 11 of Set 10 | waitati\n",
      "Processing Record 12 of Set 10 | touros\n",
      "Processing Record 13 of Set 10 | esperance\n",
      "Processing Record 14 of Set 10 | andenes\n",
      "Processing Record 15 of Set 10 | ola\n",
      "Processing Record 16 of Set 10 | roma\n",
      "Processing Record 17 of Set 10 | cotonou\n",
      "Processing Record 18 of Set 10 | genhe\n",
      "Processing Record 19 of Set 10 | abu samrah\n",
      "Processing Record 20 of Set 10 | canchungo\n",
      "Processing Record 21 of Set 10 | buin\n",
      "Processing Record 22 of Set 10 | kamenskoye\n",
      "City not found. Skipping...\n",
      "Processing Record 38 of Set 1 : kamenskoye\n",
      "Processing Record 23 of Set 10 | talara\n",
      "Processing Record 24 of Set 10 | sola\n",
      "Processing Record 25 of Set 10 | feijo\n",
      "Processing Record 26 of Set 10 | nkhata bay\n",
      "Processing Record 27 of Set 10 | shaunavon\n",
      "Processing Record 28 of Set 10 | preobrazheniye\n",
      "Processing Record 29 of Set 10 | antropovo\n",
      "Processing Record 30 of Set 10 | solsvik\n",
      "City not found. Skipping...\n",
      "Processing Record 39 of Set 1 : solsvik\n",
      "Processing Record 31 of Set 10 | rungata\n",
      "City not found. Skipping...\n",
      "Processing Record 40 of Set 1 : rungata\n",
      "Processing Record 32 of Set 10 | puro\n",
      "Processing Record 33 of Set 10 | trairi\n",
      "Processing Record 34 of Set 10 | trinidad\n",
      "Processing Record 35 of Set 10 | kalmanka\n",
      "Processing Record 36 of Set 10 | viedma\n",
      "Processing Record 37 of Set 10 | lodwar\n",
      "Processing Record 38 of Set 10 | port hedland\n",
      "Processing Record 39 of Set 10 | menongue\n",
      "Processing Record 40 of Set 10 | salvador\n",
      "Processing Record 41 of Set 10 | dali\n",
      "Processing Record 42 of Set 10 | otjiwarongo\n",
      "Processing Record 43 of Set 10 | arica\n",
      "Processing Record 44 of Set 10 | vanimo\n",
      "Processing Record 45 of Set 10 | grand centre\n",
      "City not found. Skipping...\n",
      "Processing Record 41 of Set 1 : grand centre\n",
      "Processing Record 46 of Set 10 | rio gallegos\n",
      "Processing Record 47 of Set 10 | margate\n",
      "Processing Record 48 of Set 10 | high level\n",
      "Processing Record 49 of Set 10 | cloquet\n",
      "Processing Record 50 of Set 10 | nome\n",
      "Processing Record 1 of Set 11 | deputatskiy\n",
      "Processing Record 2 of Set 11 | eyl\n",
      "Processing Record 3 of Set 11 | kirakira\n",
      "Processing Record 4 of Set 11 | monte cristi\n",
      "City not found. Skipping...\n",
      "Processing Record 42 of Set 1 : monte cristi\n",
      "Processing Record 5 of Set 11 | yar-sale\n",
      "Processing Record 6 of Set 11 | verkhnevilyuysk\n",
      "Processing Record 7 of Set 11 | rawah\n",
      "Processing Record 8 of Set 11 | acarau\n",
      "Processing Record 9 of Set 11 | huangchuan\n",
      "Processing Record 10 of Set 11 | dossor\n",
      "Processing Record 11 of Set 11 | mardin\n",
      "Processing Record 12 of Set 11 | bargal\n",
      "City not found. Skipping...\n",
      "Processing Record 43 of Set 1 : bargal\n",
      "Processing Record 13 of Set 11 | kimbe\n",
      "Processing Record 14 of Set 11 | victoria\n",
      "Processing Record 15 of Set 11 | matiri\n",
      "Processing Record 16 of Set 11 | aleksandrovka\n",
      "Processing Record 17 of Set 11 | bilma\n",
      "Processing Record 18 of Set 11 | acapulco\n",
      "Processing Record 19 of Set 11 | urucara\n",
      "Processing Record 20 of Set 11 | atyuryevo\n",
      "City not found. Skipping...\n",
      "Processing Record 44 of Set 1 : atyuryevo\n",
      "Processing Record 21 of Set 11 | ramsar\n",
      "Processing Record 22 of Set 11 | general roca\n",
      "Processing Record 23 of Set 11 | utiroa\n",
      "City not found. Skipping...\n",
      "Processing Record 45 of Set 1 : utiroa\n",
      "Processing Record 24 of Set 11 | jijiga\n"
     ]
    },
    {
     "name": "stdout",
     "output_type": "stream",
     "text": [
      "Processing Record 25 of Set 11 | tuggurt\n",
      "City not found. Skipping...\n",
      "Processing Record 46 of Set 1 : tuggurt\n",
      "Processing Record 26 of Set 11 | san carlos de bariloche\n",
      "Processing Record 27 of Set 11 | kitakata\n",
      "Processing Record 28 of Set 11 | mareeba\n",
      "Processing Record 29 of Set 11 | linhares\n",
      "Processing Record 30 of Set 11 | sakakah\n",
      "Processing Record 31 of Set 11 | vestmanna\n",
      "Processing Record 32 of Set 11 | tukums\n",
      "Processing Record 33 of Set 11 | peleduy\n",
      "Processing Record 34 of Set 11 | kandrian\n",
      "Processing Record 35 of Set 11 | abeche\n",
      "Processing Record 36 of Set 11 | codrington\n",
      "Processing Record 37 of Set 11 | meulaboh\n",
      "Processing Record 38 of Set 11 | zouxian\n",
      "City not found. Skipping...\n",
      "Processing Record 47 of Set 1 : zouxian\n",
      "Processing Record 39 of Set 11 | samfya\n",
      "Processing Record 40 of Set 11 | pathein\n",
      "Processing Record 41 of Set 11 | kishi\n",
      "Processing Record 42 of Set 11 | novopokrovka\n",
      "Processing Record 43 of Set 11 | haines junction\n",
      "Processing Record 44 of Set 11 | the valley\n",
      "Processing Record 45 of Set 11 | garden city\n",
      "Processing Record 46 of Set 11 | grand gaube\n",
      "Processing Record 47 of Set 11 | sao jose do egito\n",
      "Processing Record 48 of Set 11 | salekhard\n",
      "Processing Record 49 of Set 11 | maputo\n",
      "Processing Record 50 of Set 11 | tambacounda\n",
      "Processing Record 1 of Set 12 | ban tak\n",
      "Processing Record 2 of Set 12 | matara\n",
      "Processing Record 3 of Set 12 | mount pleasant\n",
      "Processing Record 4 of Set 12 | sao sebastiao\n",
      "Processing Record 5 of Set 12 | celestun\n",
      "Processing Record 6 of Set 12 | baracoa\n",
      "Processing Record 7 of Set 12 | zhanaozen\n",
      "Processing Record 8 of Set 12 | hovd\n",
      "Processing Record 9 of Set 12 | labutta\n",
      "City not found. Skipping...\n",
      "Processing Record 48 of Set 1 : labutta\n",
      "Processing Record 10 of Set 12 | marcona\n",
      "City not found. Skipping...\n",
      "Processing Record 49 of Set 1 : marcona\n",
      "Processing Record 11 of Set 12 | bolungarvik\n",
      "City not found. Skipping...\n",
      "Processing Record 50 of Set 1 : bolungarvik\n",
      "Processing Record 12 of Set 12 | sale\n",
      "Processing Record 13 of Set 12 | vorontsovka\n",
      "Processing Record 14 of Set 12 | saleaula\n",
      "City not found. Skipping...\n",
      "Processing Record 0 of Set 2 : saleaula\n",
      "Processing Record 15 of Set 12 | nantucket\n",
      "Processing Record 16 of Set 12 | portland\n",
      "Processing Record 17 of Set 12 | tarauaca\n",
      "Processing Record 18 of Set 12 | amapa\n",
      "Processing Record 19 of Set 12 | kotido\n",
      "Processing Record 20 of Set 12 | erenhot\n",
      "Processing Record 21 of Set 12 | broken hill\n",
      "Processing Record 22 of Set 12 | bose\n",
      "Processing Record 23 of Set 12 | tuy hoa\n",
      "Processing Record 24 of Set 12 | yarensk\n",
      "Processing Record 25 of Set 12 | meyungs\n",
      "City not found. Skipping...\n",
      "Processing Record 1 of Set 2 : meyungs\n",
      "Processing Record 26 of Set 12 | otane\n",
      "Processing Record 27 of Set 12 | punta alta\n",
      "Processing Record 28 of Set 12 | buritis\n",
      "Processing Record 29 of Set 12 | malwan\n",
      "City not found. Skipping...\n",
      "Processing Record 2 of Set 2 : malwan\n",
      "Processing Record 30 of Set 12 | zavyalovo\n",
      "Processing Record 31 of Set 12 | bolshiye uki\n",
      "City not found. Skipping...\n",
      "Processing Record 3 of Set 2 : bolshiye uki\n",
      "Processing Record 32 of Set 12 | santa cruz\n",
      "Processing Record 33 of Set 12 | chernyshevskiy\n",
      "Processing Record 34 of Set 12 | arman\n",
      "Processing Record 35 of Set 12 | ajalpan\n",
      "Processing Record 36 of Set 12 | hambantota\n",
      "Processing Record 37 of Set 12 | alice town\n",
      "Processing Record 38 of Set 12 | limoges\n",
      "Processing Record 39 of Set 12 | nara\n",
      "Processing Record 40 of Set 12 | progreso\n",
      "Processing Record 41 of Set 12 | southaven\n",
      "Processing Record 42 of Set 12 | tual\n",
      "Processing Record 43 of Set 12 | cartagena\n",
      "Processing Record 44 of Set 12 | zaranj\n",
      "Processing Record 45 of Set 12 | axim\n",
      "Processing Record 46 of Set 12 | bojnurd\n",
      "Processing Record 47 of Set 12 | kuala kedah\n",
      "Processing Record 48 of Set 12 | norfolk\n",
      "Processing Record 49 of Set 12 | cabedelo\n",
      "Processing Record 50 of Set 12 | udachnyy\n",
      "Processing Record 1 of Set 13 | mattru\n",
      "Processing Record 2 of Set 13 | el alto\n",
      "Processing Record 3 of Set 13 | talawdi\n",
      "City not found. Skipping...\n",
      "Processing Record 4 of Set 2 : talawdi\n",
      "Processing Record 4 of Set 13 | bijawar\n",
      "Processing Record 5 of Set 13 | port macquarie\n",
      "Processing Record 6 of Set 13 | kachug\n",
      "Processing Record 7 of Set 13 | milicz\n",
      "Processing Record 8 of Set 13 | falmouth\n",
      "Processing Record 9 of Set 13 | strezhevoy\n",
      "Processing Record 10 of Set 13 | manado\n",
      "Processing Record 11 of Set 13 | amuntai\n",
      "Processing Record 12 of Set 13 | batemans bay\n",
      "Processing Record 13 of Set 13 | astoria\n",
      "------------------------------------------------\n",
      "Data Retrieval Complete\n",
      "------------------------------------------------\n"
     ]
    }
   ],
   "source": [
    "# set up lists to hold reponse info\n",
    "lat = []\n",
    "temp = []\n",
    "temp_max = []\n",
    "humidity = []\n",
    "wind_speed = []\n",
    "lon = []\n",
    "date = []\n",
    "country = []\n",
    "cloudiness = []\n",
    "index_counter = 0\n",
    "set_counter = 1\n",
    "\n",
    "\n",
    "# Loop through the list of cities and perform a request for data on each\n",
    "print(\"Beginning Data Retrieval\")\n",
    "print(\"--------------------------------------------\")\n",
    "count = 0\n",
    "set = 1\n",
    "for index, city in enumerate(cities):\n",
    "    count = count + 1\n",
    "    # To avoid api call rate limits, get city weather data for 50 cities,\n",
    "    # then sleep for 5 seconds, and then continue with next 50 cities and so on...\n",
    "    if count == 51:\n",
    "        count = 1\n",
    "        set = set + 1\n",
    "        time.sleep(5)\n",
    "    print(f\"Processing Record {count} of Set {set} | {city}\")\n",
    "    try:\n",
    "        response = requests.get(query_url + city).json()\n",
    "        lat.append(response['coord']['lat'])\n",
    "        lon.append(response['coord']['lon'])\n",
    "        temp.append(response['main']['temp'])\n",
    "        temp_max.append(response['main']['temp_max'])\n",
    "        humidity.append(response['main']['humidity'])\n",
    "        wind_speed.append(response['wind']['speed'])\n",
    "        date.append(response['dt'])\n",
    "        country.append(response['sys']['country'])\n",
    "        cloudiness.append(response['clouds']['all'])\n",
    "    except KeyError:\n",
    "        print(\"City not found. Skipping...\")\n",
    "        lat.append(np.nan)\n",
    "        lon.append(np.nan)\n",
    "        temp.append(np.nan)\n",
    "        temp_max.append(np.nan)\n",
    "        humidity.append(np.nan)\n",
    "        wind_speed.append(np.nan)\n",
    "        date.append(np.nan)\n",
    "        country.append(np.nan)\n",
    "        cloudiness.append(np.nan)\n",
    "        if index_counter > 49:\n",
    "            index_counter = 0\n",
    "            set_counter = set_counter + 1\n",
    "    \n",
    "        else:\n",
    "            index_counter = index_counter + 1\n",
    "            \n",
    "        print(f\"Processing Record {index_counter} of Set {set_counter} : {city}\") \n",
    "  \n",
    "    except(KeyError, IndexError):\n",
    "        print(\"City not found. Skipping...\")\n",
    "print(\"------------------------------------------------\")\n",
    "print(\"Data Retrieval Complete\")\n",
    "print(\"------------------------------------------------\")"
   ]
  },
  {
   "cell_type": "markdown",
   "metadata": {},
   "source": [
    "### Convert Raw Data to DataFrame\n",
    "* Export the city data into a .csv.\n",
    "* Display the DataFrame"
   ]
  },
  {
   "cell_type": "code",
   "execution_count": 90,
   "metadata": {},
   "outputs": [
    {
     "name": "stdout",
     "output_type": "stream",
     "text": [
      "City          558\n",
      "Latitude      558\n",
      "Longitude     558\n",
      "Max Temp      558\n",
      "Humidity      558\n",
      "Cloudiness    558\n",
      "Wind Speed    558\n",
      "Country       558\n",
      "Date          558\n",
      "dtype: int64\n"
     ]
    },
    {
     "data": {
      "text/html": [
       "<div>\n",
       "<style scoped>\n",
       "    .dataframe tbody tr th:only-of-type {\n",
       "        vertical-align: middle;\n",
       "    }\n",
       "\n",
       "    .dataframe tbody tr th {\n",
       "        vertical-align: top;\n",
       "    }\n",
       "\n",
       "    .dataframe thead th {\n",
       "        text-align: right;\n",
       "    }\n",
       "</style>\n",
       "<table border=\"1\" class=\"dataframe\">\n",
       "  <thead>\n",
       "    <tr style=\"text-align: right;\">\n",
       "      <th></th>\n",
       "      <th>City</th>\n",
       "      <th>Latitude</th>\n",
       "      <th>Longitude</th>\n",
       "      <th>Max Temp</th>\n",
       "      <th>Humidity</th>\n",
       "      <th>Cloudiness</th>\n",
       "      <th>Wind Speed</th>\n",
       "      <th>Country</th>\n",
       "      <th>Date</th>\n",
       "    </tr>\n",
       "  </thead>\n",
       "  <tbody>\n",
       "    <tr>\n",
       "      <th>0</th>\n",
       "      <td>ust-kuyga</td>\n",
       "      <td>70.0167</td>\n",
       "      <td>135.6000</td>\n",
       "      <td>20.84</td>\n",
       "      <td>94.0</td>\n",
       "      <td>100.0</td>\n",
       "      <td>9.75</td>\n",
       "      <td>RU</td>\n",
       "      <td>1.665267e+09</td>\n",
       "    </tr>\n",
       "    <tr>\n",
       "      <th>1</th>\n",
       "      <td>punta arenas</td>\n",
       "      <td>-53.1500</td>\n",
       "      <td>-70.9167</td>\n",
       "      <td>46.51</td>\n",
       "      <td>66.0</td>\n",
       "      <td>75.0</td>\n",
       "      <td>19.57</td>\n",
       "      <td>CL</td>\n",
       "      <td>1.665266e+09</td>\n",
       "    </tr>\n",
       "    <tr>\n",
       "      <th>2</th>\n",
       "      <td>hermanus</td>\n",
       "      <td>-34.4187</td>\n",
       "      <td>19.2345</td>\n",
       "      <td>53.80</td>\n",
       "      <td>85.0</td>\n",
       "      <td>77.0</td>\n",
       "      <td>8.59</td>\n",
       "      <td>ZA</td>\n",
       "      <td>1.665266e+09</td>\n",
       "    </tr>\n",
       "    <tr>\n",
       "      <th>3</th>\n",
       "      <td>okakarara</td>\n",
       "      <td>-20.5833</td>\n",
       "      <td>17.4333</td>\n",
       "      <td>68.41</td>\n",
       "      <td>14.0</td>\n",
       "      <td>0.0</td>\n",
       "      <td>5.77</td>\n",
       "      <td>NaN</td>\n",
       "      <td>1.665267e+09</td>\n",
       "    </tr>\n",
       "    <tr>\n",
       "      <th>4</th>\n",
       "      <td>rudbar</td>\n",
       "      <td>30.1500</td>\n",
       "      <td>62.6000</td>\n",
       "      <td>61.61</td>\n",
       "      <td>15.0</td>\n",
       "      <td>0.0</td>\n",
       "      <td>7.99</td>\n",
       "      <td>AF</td>\n",
       "      <td>1.665267e+09</td>\n",
       "    </tr>\n",
       "  </tbody>\n",
       "</table>\n",
       "</div>"
      ],
      "text/plain": [
       "           City  Latitude  Longitude  Max Temp  Humidity  Cloudiness  \\\n",
       "0     ust-kuyga   70.0167   135.6000     20.84      94.0       100.0   \n",
       "1  punta arenas  -53.1500   -70.9167     46.51      66.0        75.0   \n",
       "2      hermanus  -34.4187    19.2345     53.80      85.0        77.0   \n",
       "3     okakarara  -20.5833    17.4333     68.41      14.0         0.0   \n",
       "4        rudbar   30.1500    62.6000     61.61      15.0         0.0   \n",
       "\n",
       "   Wind Speed Country          Date  \n",
       "0        9.75      RU  1.665267e+09  \n",
       "1       19.57      CL  1.665266e+09  \n",
       "2        8.59      ZA  1.665266e+09  \n",
       "3        5.77     NaN  1.665267e+09  \n",
       "4        7.99      AF  1.665267e+09  "
      ]
     },
     "execution_count": 90,
     "metadata": {},
     "output_type": "execute_result"
    }
   ],
   "source": [
    "# Convert raw data to dataframe.\n",
    "city_weather_df = pd.DataFrame({\n",
    "    \"City\": cities,\n",
    "    \"Latitude\": lat,\n",
    "    \"Longitude\": lon,\n",
    "    \"Max Temp\": temp_max,\n",
    "    \"Humidity\": humidity,\n",
    "    \"Cloudiness\": cloudiness,\n",
    "    \"Wind Speed\": wind_speed,\n",
    "    \"Country\": country,\n",
    "    \"Date\": date\n",
    "    \n",
    "})\n",
    "\n",
    "# Drop any cities that were skipped because they could not be found using the OpenWeatherMap API.\n",
    "city_weather_df = city_weather_df.dropna(how=\"any\")\n",
    "print(city_weather_df.count())\n",
    "\n",
    "# Export the city data into a .csv file.\n",
    "city_weather_df.to_csv(\"./output_data/city_weather_data.csv\", index=False)\n",
    "\n",
    "# Display the DataFrame\n",
    "weather_df = pd.read_csv(\"./output_data/city_weather_data.csv\")\n",
    "\n",
    "weather_df.head()"
   ]
  },
  {
   "cell_type": "code",
   "execution_count": 91,
   "metadata": {},
   "outputs": [],
   "source": [
    "#example below from start of the assignment for checking"
   ]
  },
  {
   "cell_type": "code",
   "execution_count": 92,
   "metadata": {},
   "outputs": [
    {
     "data": {
      "text/html": [
       "<div>\n",
       "<style scoped>\n",
       "    .dataframe tbody tr th:only-of-type {\n",
       "        vertical-align: middle;\n",
       "    }\n",
       "\n",
       "    .dataframe tbody tr th {\n",
       "        vertical-align: top;\n",
       "    }\n",
       "\n",
       "    .dataframe thead th {\n",
       "        text-align: right;\n",
       "    }\n",
       "</style>\n",
       "<table border=\"1\" class=\"dataframe\">\n",
       "  <thead>\n",
       "    <tr style=\"text-align: right;\">\n",
       "      <th></th>\n",
       "      <th>Latitude</th>\n",
       "      <th>Longitude</th>\n",
       "      <th>Max Temp</th>\n",
       "      <th>Humidity</th>\n",
       "      <th>Cloudiness</th>\n",
       "      <th>Wind Speed</th>\n",
       "      <th>Date</th>\n",
       "    </tr>\n",
       "  </thead>\n",
       "  <tbody>\n",
       "    <tr>\n",
       "      <th>count</th>\n",
       "      <td>558.000000</td>\n",
       "      <td>558.000000</td>\n",
       "      <td>558.000000</td>\n",
       "      <td>558.000000</td>\n",
       "      <td>558.000000</td>\n",
       "      <td>558.000000</td>\n",
       "      <td>5.580000e+02</td>\n",
       "    </tr>\n",
       "    <tr>\n",
       "      <th>mean</th>\n",
       "      <td>19.889834</td>\n",
       "      <td>19.074554</td>\n",
       "      <td>61.794176</td>\n",
       "      <td>70.600358</td>\n",
       "      <td>51.745520</td>\n",
       "      <td>8.431810</td>\n",
       "      <td>1.665267e+09</td>\n",
       "    </tr>\n",
       "    <tr>\n",
       "      <th>std</th>\n",
       "      <td>33.594468</td>\n",
       "      <td>88.827474</td>\n",
       "      <td>18.680698</td>\n",
       "      <td>21.499358</td>\n",
       "      <td>39.418116</td>\n",
       "      <td>5.627405</td>\n",
       "      <td>2.071788e+02</td>\n",
       "    </tr>\n",
       "    <tr>\n",
       "      <th>min</th>\n",
       "      <td>-54.800000</td>\n",
       "      <td>-175.200000</td>\n",
       "      <td>5.430000</td>\n",
       "      <td>12.000000</td>\n",
       "      <td>0.000000</td>\n",
       "      <td>0.000000</td>\n",
       "      <td>1.665266e+09</td>\n",
       "    </tr>\n",
       "    <tr>\n",
       "      <th>25%</th>\n",
       "      <td>-7.576250</td>\n",
       "      <td>-60.189175</td>\n",
       "      <td>49.312500</td>\n",
       "      <td>59.250000</td>\n",
       "      <td>10.000000</td>\n",
       "      <td>4.160000</td>\n",
       "      <td>1.665267e+09</td>\n",
       "    </tr>\n",
       "    <tr>\n",
       "      <th>50%</th>\n",
       "      <td>22.180350</td>\n",
       "      <td>23.402450</td>\n",
       "      <td>65.345000</td>\n",
       "      <td>76.000000</td>\n",
       "      <td>50.000000</td>\n",
       "      <td>7.300000</td>\n",
       "      <td>1.665267e+09</td>\n",
       "    </tr>\n",
       "    <tr>\n",
       "      <th>75%</th>\n",
       "      <td>49.827725</td>\n",
       "      <td>96.157150</td>\n",
       "      <td>76.882500</td>\n",
       "      <td>88.000000</td>\n",
       "      <td>97.000000</td>\n",
       "      <td>11.360000</td>\n",
       "      <td>1.665267e+09</td>\n",
       "    </tr>\n",
       "    <tr>\n",
       "      <th>max</th>\n",
       "      <td>78.218600</td>\n",
       "      <td>179.316700</td>\n",
       "      <td>97.740000</td>\n",
       "      <td>100.000000</td>\n",
       "      <td>100.000000</td>\n",
       "      <td>33.380000</td>\n",
       "      <td>1.665267e+09</td>\n",
       "    </tr>\n",
       "  </tbody>\n",
       "</table>\n",
       "</div>"
      ],
      "text/plain": [
       "         Latitude   Longitude    Max Temp    Humidity  Cloudiness  Wind Speed  \\\n",
       "count  558.000000  558.000000  558.000000  558.000000  558.000000  558.000000   \n",
       "mean    19.889834   19.074554   61.794176   70.600358   51.745520    8.431810   \n",
       "std     33.594468   88.827474   18.680698   21.499358   39.418116    5.627405   \n",
       "min    -54.800000 -175.200000    5.430000   12.000000    0.000000    0.000000   \n",
       "25%     -7.576250  -60.189175   49.312500   59.250000   10.000000    4.160000   \n",
       "50%     22.180350   23.402450   65.345000   76.000000   50.000000    7.300000   \n",
       "75%     49.827725   96.157150   76.882500   88.000000   97.000000   11.360000   \n",
       "max     78.218600  179.316700   97.740000  100.000000  100.000000   33.380000   \n",
       "\n",
       "               Date  \n",
       "count  5.580000e+02  \n",
       "mean   1.665267e+09  \n",
       "std    2.071788e+02  \n",
       "min    1.665266e+09  \n",
       "25%    1.665267e+09  \n",
       "50%    1.665267e+09  \n",
       "75%    1.665267e+09  \n",
       "max    1.665267e+09  "
      ]
     },
     "execution_count": 92,
     "metadata": {},
     "output_type": "execute_result"
    }
   ],
   "source": [
    "#create a data frame with the info below in the example provided\n",
    "\n",
    "weather_df.describe()"
   ]
  },
  {
   "cell_type": "code",
   "execution_count": 93,
   "metadata": {},
   "outputs": [],
   "source": [
    "#example below from start of the assignment for checking"
   ]
  },
  {
   "cell_type": "markdown",
   "metadata": {},
   "source": [
    "## Inspect the data and remove the cities where the humidity > 100%.\n",
    "----\n",
    "Skip this step if there are no cities that have humidity > 100%. "
   ]
  },
  {
   "cell_type": "code",
   "execution_count": 94,
   "metadata": {},
   "outputs": [
    {
     "data": {
      "text/html": [
       "<div>\n",
       "<style scoped>\n",
       "    .dataframe tbody tr th:only-of-type {\n",
       "        vertical-align: middle;\n",
       "    }\n",
       "\n",
       "    .dataframe tbody tr th {\n",
       "        vertical-align: top;\n",
       "    }\n",
       "\n",
       "    .dataframe thead th {\n",
       "        text-align: right;\n",
       "    }\n",
       "</style>\n",
       "<table border=\"1\" class=\"dataframe\">\n",
       "  <thead>\n",
       "    <tr style=\"text-align: right;\">\n",
       "      <th></th>\n",
       "      <th>City</th>\n",
       "      <th>Latitude</th>\n",
       "      <th>Longitude</th>\n",
       "      <th>Max Temp</th>\n",
       "      <th>Humidity</th>\n",
       "      <th>Cloudiness</th>\n",
       "      <th>Wind Speed</th>\n",
       "      <th>Country</th>\n",
       "      <th>Date</th>\n",
       "    </tr>\n",
       "  </thead>\n",
       "  <tbody>\n",
       "    <tr>\n",
       "      <th>0</th>\n",
       "      <td>ust-kuyga</td>\n",
       "      <td>70.0167</td>\n",
       "      <td>135.6000</td>\n",
       "      <td>20.84</td>\n",
       "      <td>94.0</td>\n",
       "      <td>100.0</td>\n",
       "      <td>9.75</td>\n",
       "      <td>RU</td>\n",
       "      <td>1.665267e+09</td>\n",
       "    </tr>\n",
       "    <tr>\n",
       "      <th>1</th>\n",
       "      <td>punta arenas</td>\n",
       "      <td>-53.1500</td>\n",
       "      <td>-70.9167</td>\n",
       "      <td>46.51</td>\n",
       "      <td>66.0</td>\n",
       "      <td>75.0</td>\n",
       "      <td>19.57</td>\n",
       "      <td>CL</td>\n",
       "      <td>1.665266e+09</td>\n",
       "    </tr>\n",
       "    <tr>\n",
       "      <th>2</th>\n",
       "      <td>hermanus</td>\n",
       "      <td>-34.4187</td>\n",
       "      <td>19.2345</td>\n",
       "      <td>53.80</td>\n",
       "      <td>85.0</td>\n",
       "      <td>77.0</td>\n",
       "      <td>8.59</td>\n",
       "      <td>ZA</td>\n",
       "      <td>1.665266e+09</td>\n",
       "    </tr>\n",
       "    <tr>\n",
       "      <th>3</th>\n",
       "      <td>okakarara</td>\n",
       "      <td>-20.5833</td>\n",
       "      <td>17.4333</td>\n",
       "      <td>68.41</td>\n",
       "      <td>14.0</td>\n",
       "      <td>0.0</td>\n",
       "      <td>5.77</td>\n",
       "      <td>NaN</td>\n",
       "      <td>1.665267e+09</td>\n",
       "    </tr>\n",
       "    <tr>\n",
       "      <th>4</th>\n",
       "      <td>rudbar</td>\n",
       "      <td>30.1500</td>\n",
       "      <td>62.6000</td>\n",
       "      <td>61.61</td>\n",
       "      <td>15.0</td>\n",
       "      <td>0.0</td>\n",
       "      <td>7.99</td>\n",
       "      <td>AF</td>\n",
       "      <td>1.665267e+09</td>\n",
       "    </tr>\n",
       "    <tr>\n",
       "      <th>...</th>\n",
       "      <td>...</td>\n",
       "      <td>...</td>\n",
       "      <td>...</td>\n",
       "      <td>...</td>\n",
       "      <td>...</td>\n",
       "      <td>...</td>\n",
       "      <td>...</td>\n",
       "      <td>...</td>\n",
       "      <td>...</td>\n",
       "    </tr>\n",
       "    <tr>\n",
       "      <th>553</th>\n",
       "      <td>strezhevoy</td>\n",
       "      <td>60.7333</td>\n",
       "      <td>77.5889</td>\n",
       "      <td>42.69</td>\n",
       "      <td>92.0</td>\n",
       "      <td>100.0</td>\n",
       "      <td>3.56</td>\n",
       "      <td>RU</td>\n",
       "      <td>1.665267e+09</td>\n",
       "    </tr>\n",
       "    <tr>\n",
       "      <th>554</th>\n",
       "      <td>manado</td>\n",
       "      <td>1.4870</td>\n",
       "      <td>124.8455</td>\n",
       "      <td>75.97</td>\n",
       "      <td>100.0</td>\n",
       "      <td>40.0</td>\n",
       "      <td>3.44</td>\n",
       "      <td>ID</td>\n",
       "      <td>1.665267e+09</td>\n",
       "    </tr>\n",
       "    <tr>\n",
       "      <th>555</th>\n",
       "      <td>amuntai</td>\n",
       "      <td>-2.4177</td>\n",
       "      <td>115.2494</td>\n",
       "      <td>73.45</td>\n",
       "      <td>99.0</td>\n",
       "      <td>98.0</td>\n",
       "      <td>0.74</td>\n",
       "      <td>ID</td>\n",
       "      <td>1.665267e+09</td>\n",
       "    </tr>\n",
       "    <tr>\n",
       "      <th>556</th>\n",
       "      <td>batemans bay</td>\n",
       "      <td>-35.7167</td>\n",
       "      <td>150.1833</td>\n",
       "      <td>51.10</td>\n",
       "      <td>82.0</td>\n",
       "      <td>99.0</td>\n",
       "      <td>7.56</td>\n",
       "      <td>AU</td>\n",
       "      <td>1.665267e+09</td>\n",
       "    </tr>\n",
       "    <tr>\n",
       "      <th>557</th>\n",
       "      <td>astoria</td>\n",
       "      <td>46.1879</td>\n",
       "      <td>-123.8313</td>\n",
       "      <td>73.47</td>\n",
       "      <td>79.0</td>\n",
       "      <td>0.0</td>\n",
       "      <td>8.05</td>\n",
       "      <td>US</td>\n",
       "      <td>1.665267e+09</td>\n",
       "    </tr>\n",
       "  </tbody>\n",
       "</table>\n",
       "<p>558 rows × 9 columns</p>\n",
       "</div>"
      ],
      "text/plain": [
       "             City  Latitude  Longitude  Max Temp  Humidity  Cloudiness  \\\n",
       "0       ust-kuyga   70.0167   135.6000     20.84      94.0       100.0   \n",
       "1    punta arenas  -53.1500   -70.9167     46.51      66.0        75.0   \n",
       "2        hermanus  -34.4187    19.2345     53.80      85.0        77.0   \n",
       "3       okakarara  -20.5833    17.4333     68.41      14.0         0.0   \n",
       "4          rudbar   30.1500    62.6000     61.61      15.0         0.0   \n",
       "..            ...       ...        ...       ...       ...         ...   \n",
       "553    strezhevoy   60.7333    77.5889     42.69      92.0       100.0   \n",
       "554        manado    1.4870   124.8455     75.97     100.0        40.0   \n",
       "555       amuntai   -2.4177   115.2494     73.45      99.0        98.0   \n",
       "556  batemans bay  -35.7167   150.1833     51.10      82.0        99.0   \n",
       "557       astoria   46.1879  -123.8313     73.47      79.0         0.0   \n",
       "\n",
       "     Wind Speed Country          Date  \n",
       "0          9.75      RU  1.665267e+09  \n",
       "1         19.57      CL  1.665266e+09  \n",
       "2          8.59      ZA  1.665266e+09  \n",
       "3          5.77     NaN  1.665267e+09  \n",
       "4          7.99      AF  1.665267e+09  \n",
       "..          ...     ...           ...  \n",
       "553        3.56      RU  1.665267e+09  \n",
       "554        3.44      ID  1.665267e+09  \n",
       "555        0.74      ID  1.665267e+09  \n",
       "556        7.56      AU  1.665267e+09  \n",
       "557        8.05      US  1.665267e+09  \n",
       "\n",
       "[558 rows x 9 columns]"
      ]
     },
     "execution_count": 94,
     "metadata": {},
     "output_type": "execute_result"
    }
   ],
   "source": [
    "humidity_df = weather_df.loc[weather_df['Humidity'] <= 100]\n",
    "humidity_df"
   ]
  },
  {
   "cell_type": "code",
   "execution_count": 95,
   "metadata": {},
   "outputs": [
    {
     "data": {
      "text/html": [
       "<div>\n",
       "<style scoped>\n",
       "    .dataframe tbody tr th:only-of-type {\n",
       "        vertical-align: middle;\n",
       "    }\n",
       "\n",
       "    .dataframe tbody tr th {\n",
       "        vertical-align: top;\n",
       "    }\n",
       "\n",
       "    .dataframe thead th {\n",
       "        text-align: right;\n",
       "    }\n",
       "</style>\n",
       "<table border=\"1\" class=\"dataframe\">\n",
       "  <thead>\n",
       "    <tr style=\"text-align: right;\">\n",
       "      <th></th>\n",
       "      <th>Latitude</th>\n",
       "      <th>Longitude</th>\n",
       "      <th>Max Temp</th>\n",
       "      <th>Humidity</th>\n",
       "      <th>Cloudiness</th>\n",
       "      <th>Wind Speed</th>\n",
       "      <th>Date</th>\n",
       "    </tr>\n",
       "  </thead>\n",
       "  <tbody>\n",
       "    <tr>\n",
       "      <th>count</th>\n",
       "      <td>558.000000</td>\n",
       "      <td>558.000000</td>\n",
       "      <td>558.000000</td>\n",
       "      <td>558.000000</td>\n",
       "      <td>558.000000</td>\n",
       "      <td>558.000000</td>\n",
       "      <td>5.580000e+02</td>\n",
       "    </tr>\n",
       "    <tr>\n",
       "      <th>mean</th>\n",
       "      <td>19.889834</td>\n",
       "      <td>19.074554</td>\n",
       "      <td>61.794176</td>\n",
       "      <td>70.600358</td>\n",
       "      <td>51.745520</td>\n",
       "      <td>8.431810</td>\n",
       "      <td>1.665267e+09</td>\n",
       "    </tr>\n",
       "    <tr>\n",
       "      <th>std</th>\n",
       "      <td>33.594468</td>\n",
       "      <td>88.827474</td>\n",
       "      <td>18.680698</td>\n",
       "      <td>21.499358</td>\n",
       "      <td>39.418116</td>\n",
       "      <td>5.627405</td>\n",
       "      <td>2.071788e+02</td>\n",
       "    </tr>\n",
       "    <tr>\n",
       "      <th>min</th>\n",
       "      <td>-54.800000</td>\n",
       "      <td>-175.200000</td>\n",
       "      <td>5.430000</td>\n",
       "      <td>12.000000</td>\n",
       "      <td>0.000000</td>\n",
       "      <td>0.000000</td>\n",
       "      <td>1.665266e+09</td>\n",
       "    </tr>\n",
       "    <tr>\n",
       "      <th>25%</th>\n",
       "      <td>-7.576250</td>\n",
       "      <td>-60.189175</td>\n",
       "      <td>49.312500</td>\n",
       "      <td>59.250000</td>\n",
       "      <td>10.000000</td>\n",
       "      <td>4.160000</td>\n",
       "      <td>1.665267e+09</td>\n",
       "    </tr>\n",
       "    <tr>\n",
       "      <th>50%</th>\n",
       "      <td>22.180350</td>\n",
       "      <td>23.402450</td>\n",
       "      <td>65.345000</td>\n",
       "      <td>76.000000</td>\n",
       "      <td>50.000000</td>\n",
       "      <td>7.300000</td>\n",
       "      <td>1.665267e+09</td>\n",
       "    </tr>\n",
       "    <tr>\n",
       "      <th>75%</th>\n",
       "      <td>49.827725</td>\n",
       "      <td>96.157150</td>\n",
       "      <td>76.882500</td>\n",
       "      <td>88.000000</td>\n",
       "      <td>97.000000</td>\n",
       "      <td>11.360000</td>\n",
       "      <td>1.665267e+09</td>\n",
       "    </tr>\n",
       "    <tr>\n",
       "      <th>max</th>\n",
       "      <td>78.218600</td>\n",
       "      <td>179.316700</td>\n",
       "      <td>97.740000</td>\n",
       "      <td>100.000000</td>\n",
       "      <td>100.000000</td>\n",
       "      <td>33.380000</td>\n",
       "      <td>1.665267e+09</td>\n",
       "    </tr>\n",
       "  </tbody>\n",
       "</table>\n",
       "</div>"
      ],
      "text/plain": [
       "         Latitude   Longitude    Max Temp    Humidity  Cloudiness  Wind Speed  \\\n",
       "count  558.000000  558.000000  558.000000  558.000000  558.000000  558.000000   \n",
       "mean    19.889834   19.074554   61.794176   70.600358   51.745520    8.431810   \n",
       "std     33.594468   88.827474   18.680698   21.499358   39.418116    5.627405   \n",
       "min    -54.800000 -175.200000    5.430000   12.000000    0.000000    0.000000   \n",
       "25%     -7.576250  -60.189175   49.312500   59.250000   10.000000    4.160000   \n",
       "50%     22.180350   23.402450   65.345000   76.000000   50.000000    7.300000   \n",
       "75%     49.827725   96.157150   76.882500   88.000000   97.000000   11.360000   \n",
       "max     78.218600  179.316700   97.740000  100.000000  100.000000   33.380000   \n",
       "\n",
       "               Date  \n",
       "count  5.580000e+02  \n",
       "mean   1.665267e+09  \n",
       "std    2.071788e+02  \n",
       "min    1.665266e+09  \n",
       "25%    1.665267e+09  \n",
       "50%    1.665267e+09  \n",
       "75%    1.665267e+09  \n",
       "max    1.665267e+09  "
      ]
     },
     "execution_count": 95,
     "metadata": {},
     "output_type": "execute_result"
    }
   ],
   "source": [
    "humidity_df.describe()"
   ]
  },
  {
   "cell_type": "code",
   "execution_count": 96,
   "metadata": {},
   "outputs": [
    {
     "ename": "TypeError",
     "evalue": "'method' object is not subscriptable",
     "output_type": "error",
     "traceback": [
      "\u001b[0;31m---------------------------------------------------------------------------\u001b[0m",
      "\u001b[0;31mTypeError\u001b[0m                                 Traceback (most recent call last)",
      "Input \u001b[0;32mIn [96]\u001b[0m, in \u001b[0;36m<cell line: 3>\u001b[0;34m()\u001b[0m\n\u001b[1;32m      1\u001b[0m \u001b[38;5;66;03m#  Get the indices of cities that have humidity over 100%.\u001b[39;00m\n\u001b[0;32m----> 3\u001b[0m \u001b[43mhumidity_df\u001b[49m\u001b[38;5;241;43m.\u001b[39;49m\u001b[43mcount\u001b[49m\u001b[43m[\u001b[49m\u001b[38;5;124;43m\"\u001b[39;49m\u001b[38;5;124;43mcity\u001b[39;49m\u001b[38;5;124;43m\"\u001b[39;49m\u001b[43m]\u001b[49m\n",
      "\u001b[0;31mTypeError\u001b[0m: 'method' object is not subscriptable"
     ]
    }
   ],
   "source": [
    "#  Get the indices of cities that have humidity over 100%.\n",
    "\n",
    "humidity_df.count[\"city\"]"
   ]
  },
  {
   "cell_type": "code",
   "execution_count": null,
   "metadata": {},
   "outputs": [],
   "source": [
    "# Make a new DataFrame equal to the city data to drop all humidity outliers by index.\n",
    "# Passing \"inplace=False\" will make a copy of the city_data DataFrame, which we call \"clean_city_data\".\n"
   ]
  },
  {
   "cell_type": "code",
   "execution_count": null,
   "metadata": {},
   "outputs": [],
   "source": [
    "\n"
   ]
  },
  {
   "cell_type": "markdown",
   "metadata": {},
   "source": [
    "## Plotting the Data\n",
    "* Use proper labeling of the plots using plot titles (including date of analysis) and axes labels.\n",
    "* Save the plotted figures as .pngs."
   ]
  },
  {
   "cell_type": "markdown",
   "metadata": {},
   "source": [
    "## Latitude vs. Temperature Plot"
   ]
  },
  {
   "cell_type": "code",
   "execution_count": 98,
   "metadata": {},
   "outputs": [
    {
     "data": {
      "image/png": "[encoded data removed]",
      "text/plain": [
       "<Figure size 432x288 with 1 Axes>"
      ]
     },
     "metadata": {
      "needs_background": "light"
     },
     "output_type": "display_data"
    }
   ],
   "source": [
    "date_of_analysis = datetime.date(datetime.now())\n",
    "# Create a scatter plot for latitude vs max temperature.\n",
    "x_values = weather_df['Latitude']\n",
    "y_values = weather_df['Max Temp']\n",
    "plt.scatter(x_values, y_values, facecolor = \"steelblue\", edgecolor = \"black\")\n",
    "plt.xlabel('Latitude')\n",
    "plt.ylabel('Max Temperature (F)')\n",
    "plt.title(f\"Latitude vs. Max Temperature (04/01/20)\")\n",
    "plt.grid(linestyle='-', linewidth=1, alpha = 0.5)\n",
    "plt.savefig(\"../Images/latitude_vs_temperature.png\", bbox_inches=\"tight\")\n",
    "plt.show()"
   ]
  },
  {
   "cell_type": "markdown",
   "metadata": {},
   "source": [
    "The above scatter plot shows how a cities max temperature is connected to its latitude. Especially, thr data from the visual shows how the maximum temperature changes closer you get (or further) from the equator (Latitude of 0). For example, the cities with the highest maximum temperatures are closest to the equator (that is, cities from about -40 to 20 degrees Latitude). As you go farther south into the southern hemisphere, the max temperature starts to decrease. And, as you go farther north in the northern hemisphere, the max temperature steadily decreases as well. So, from this graph, we can conclude that the hottest temperatures for a city are higher for a city that is closer to the equator and lower for a city farther north or south."
   ]
  },
  {
   "cell_type": "markdown",
   "metadata": {},
   "source": [
    "## Latitude vs. Humidity Plot"
   ]
  },
  {
   "cell_type": "code",
   "execution_count": 99,
   "metadata": {},
   "outputs": [
    {
     "data": {
      "image/png": "[encoded data removed]",
      "text/plain": [
       "<Figure size 432x288 with 1 Axes>"
      ]
     },
     "metadata": {
      "needs_background": "light"
     },
     "output_type": "display_data"
    }
   ],
   "source": [
    "# Create a scatter plot for latitude vs humidity.\n",
    "x_values = weather_df['Latitude']\n",
    "y_values = weather_df['Humidity']\n",
    "plt.scatter(x_values, y_values, facecolor = \"steelblue\", edgecolor = \"black\")\n",
    "plt.xlabel('Latitude')\n",
    "plt.ylabel('Humidity (%)')\n",
    "plt.title(f'City Latitude vs Humidity (04/01/20)')\n",
    "plt.ylim(0, 150)\n",
    "plt.grid()\n",
    "plt.savefig(\"../Images/latitude_vs_humidity.png\", bbox_inches=\"tight\")\n",
    "plt.show()"
   ]
  },
  {
   "cell_type": "markdown",
   "metadata": {},
   "source": [
    "The above scatter plot shows how a city's humidity is related to its latitude. Specifically, it shows how humidity changes as you get closer (or farther) away from the equator (Latitude of 0). Looking at this graph, the data points are scattered pretty evenly throughout, and it does not appear that there is a strong correlation between a city's latitude and humidity. Most cities (near the equator or farther away) that are shown in this graph have a humidity from about 60% to 100%. So, high humidity occurs in cities irregardless of latitude. However, there are a few cities that have low humidity, and according this graph, these cities are found only near the equaor. Besides a few outliers, there are not really any cities farther away from the equator that have low humidity."
   ]
  },
  {
   "cell_type": "markdown",
   "metadata": {},
   "source": [
    "## Latitude vs. Cloudiness Plot"
   ]
  },
  {
   "cell_type": "code",
   "execution_count": 100,
   "metadata": {},
   "outputs": [
    {
     "data": {
      "image/png": "[encoded data removed]",
      "text/plain": [
       "<Figure size 432x288 with 1 Axes>"
      ]
     },
     "metadata": {
      "needs_background": "light"
     },
     "output_type": "display_data"
    }
   ],
   "source": [
    "# Create a scatter plot for latitude vs cloudiness.\n",
    "x_values = weather_df['Latitude']\n",
    "y_values = weather_df['Cloudiness']\n",
    "plt.scatter(x_values, y_values, facecolor = \"steelblue\", edgecolor = \"black\")\n",
    "plt.xlabel('Latitude')\n",
    "plt.ylabel('Cloudiness (%)')\n",
    "plt.title(f'City Latitude vs Cloudiness (04/01/20)')\n",
    "plt.grid()\n",
    "plt.savefig(\"../Images/latitude_vs_cloudiness.png\", bbox_inches=\"tight\")\n",
    "plt.show()"
   ]
  },
  {
   "cell_type": "markdown",
   "metadata": {},
   "source": [
    "The above scatter plot shows how a city's cloudiness is related to its latitude. Specifically, it shows how cloudiness changes as you get closer (or farther) away from the equator (latitude of 0). Looking at this graph, the data points are pretty spread out evenly on the graph. Most cities (near or far from the equator) either generally have a really low cloudiness level (near 0) or a really high cloudiness level (near 100). So, most of the data points are near the extremes. However, there are cities that have a cloudiness level somewhere in between. Because the data points are scattered, it does not appear that there is a strong correlation between a city's latitude and cloudiness. That is, from the OpenWeatherMap API, we were able to find cites near the equator that had a low cloudiness level, a high cloudiness level, or a cloudiness level somewhere in between. The same goes for cities farther away from the equator."
   ]
  },
  {
   "cell_type": "markdown",
   "metadata": {},
   "source": [
    "## Latitude vs. Wind Speed Plot"
   ]
  },
  {
   "cell_type": "code",
   "execution_count": 101,
   "metadata": {},
   "outputs": [
    {
     "data": {
      "image/png": "[encoded data removed]",
      "text/plain": [
       "<Figure size 432x288 with 1 Axes>"
      ]
     },
     "metadata": {
      "needs_background": "light"
     },
     "output_type": "display_data"
    }
   ],
   "source": [
    "# Create a scatter plot for latitude vs wind speed.\n",
    "x_values = weather_df['Latitude']\n",
    "y_values = weather_df['Wind Speed']\n",
    "plt.scatter(x_values, y_values,facecolor = \"steelblue\", edgecolor = \"black\")\n",
    "plt.xlabel('Latitude')\n",
    "plt.ylabel('Wind Speed (mph)')\n",
    "plt.title(f'City Latitude vs Wind Speed (04/01/20)')\n",
    "plt.grid()\n",
    "plt.savefig(\"../Images/latitude_vs_wind_speed.png\", bbox_inches=\"tight\")\n",
    "plt.show()"
   ]
  },
  {
   "cell_type": "markdown",
   "metadata": {},
   "source": [
    "The above scatter plot shows how a city's wind speed is related to its latitude. Specifically, it shows how wind speed changes as you get closer (or farther) away from the equator (latitude of 0). Looking at this graph, the data points are clustered around lower wind speed values. Both cities near the equator and farther away from the equator appear to have lower wind speeds. So, from the above graph, it does not appear that there is a strong correlation between a city's latitude and wind speed. Also, I think it is important to point out that there are some cities farther away from the equator in the southern hemisphere (-20 to -40 Latitude) and in the northern hemisphere (40 to 60 Latitude) that have higher wind speeds."
   ]
  },
  {
   "cell_type": "markdown",
   "metadata": {},
   "source": [
    "## Linear Regression"
   ]
  },
  {
   "cell_type": "code",
   "execution_count": 102,
   "metadata": {},
   "outputs": [],
   "source": [
    "# Create a function to create linear regression plots.\n",
    "def createLinearRegressionPlot(x_values, y_values, x_label, y_label, hemisphere, line_placement, ylim=None):\n",
    "    (slope, intercept, rvalue, pvalue, stderr) = linregress(x_values, y_values)\n",
    "\n",
    "    # Get regression values\n",
    "    regress_values = x_values * slope + intercept\n",
    "    \n",
    "    # Create line equation string\n",
    "    line_eq = \"y = \" + str(round(slope,2)) + \"x +\" + str(round(intercept,2))\n",
    "    \n",
    "    plt.scatter(x_values, y_values)\n",
    "    plt.xlabel(x_label)\n",
    "    plt.ylabel(y_label)\n",
    "    if ylim is not None:\n",
    "        plt.ylim(0, ylim)\n",
    "    today = datetime.date(datetime.now())\n",
    "    plt.title(f\"{hemisphere} Hemisphere - {x_label} vs {y_label} {today}\")\n",
    "    plt.annotate(line_eq,line_placement,fontsize=15,color=\"red\")\n",
    "    # Print r square value\n",
    "    print(f\"The r-squared is: {rvalue**2}\")\n",
    "    correlation = st.pearsonr(x_values,y_values)\n",
    "    print(f\"The correlation between both factors is {round(correlation[0],2)}\")\n",
    "    plt.savefig(f\"../Images/{hemisphere}_{x_label}_vs_{y_label}.png\", bbox_inches=\"tight\")\n",
    "    return plt.plot(x_values,regress_values,\"r-\")\n"
   ]
  },
  {
   "cell_type": "code",
   "execution_count": 103,
   "metadata": {},
   "outputs": [],
   "source": [
    "# Create Northern and Southern Hemisphere DataFrames\n",
    "northern_hemisphere_weather_df = weather_df.loc[weather_df[\"Latitude\"] >= 0]\n",
    "southern_hemisphere_weather_df = weather_df.loc[weather_df[\"Latitude\"] < 0]"
   ]
  },
  {
   "cell_type": "markdown",
   "metadata": {},
   "source": [
    "####  Northern Hemisphere - Max Temp vs. Latitude Linear Regression"
   ]
  },
  {
   "cell_type": "code",
   "execution_count": 104,
   "metadata": {},
   "outputs": [
    {
     "name": "stdout",
     "output_type": "stream",
     "text": [
      "The r-squared is: 0.688120894588156\n",
      "The correlation between both factors is -0.83\n"
     ]
    },
    {
     "data": {
      "text/plain": [
       "[<matplotlib.lines.Line2D at 0x7f96405adc40>]"
      ]
     },
     "execution_count": 104,
     "metadata": {},
     "output_type": "execute_result"
    },
    {
     "data": {
      "image/png": "[encoded data removed]",
      "text/plain": [
       "<Figure size 432x288 with 1 Axes>"
      ]
     },
     "metadata": {
      "needs_background": "light"
     },
     "output_type": "display_data"
    }
   ],
   "source": [
    "# Create a scatter plot for latitude vs max temp (northern hemisphere)\n",
    "x_values = northern_hemisphere_weather_df['Latitude']\n",
    "y_values = northern_hemisphere_weather_df['Max Temp']\n",
    "createLinearRegressionPlot(x_values, y_values, \"Latitude\", \"Max Temp (F)\", \"Northern\",(0, 0))"
   ]
  },
  {
   "cell_type": "markdown",
   "metadata": {},
   "source": [
    "The linear regression modeling for maximum temperature vs latitude for the northern hemisphere shows that there is a strong, negative correlation between maximum temperature and latitude. That is, as you go father north away from the equator (latitude is increasing), the maximum temperature steadily decreases. And, vice versa, the closer you get to the equator away from higher latitudes (latitude is decreasing), the maximum temperature steadily increases."
   ]
  },
  {
   "cell_type": "markdown",
   "metadata": {},
   "source": [
    "####  Southern Hemisphere - Max Temp vs. Latitude Linear Regression"
   ]
  },
  {
   "cell_type": "code",
   "execution_count": 105,
   "metadata": {},
   "outputs": [
    {
     "name": "stdout",
     "output_type": "stream",
     "text": [
      "The r-squared is: 0.6059447462621333\n",
      "The correlation between both factors is 0.78\n"
     ]
    },
    {
     "data": {
      "text/plain": [
       "[<matplotlib.lines.Line2D at 0x7f96406bc1f0>]"
      ]
     },
     "execution_count": 105,
     "metadata": {},
     "output_type": "execute_result"
    },
    {
     "data": {
      "image/png": "[encoded data removed]",
      "text/plain": [
       "<Figure size 432x288 with 1 Axes>"
      ]
     },
     "metadata": {
      "needs_background": "light"
     },
     "output_type": "display_data"
    }
   ],
   "source": [
    "# Create a scatter plot for latitude vs max temp (southern hemisphere)\n",
    "x_values = southern_hemisphere_weather_df['Latitude']\n",
    "y_values = southern_hemisphere_weather_df['Max Temp']\n",
    "createLinearRegressionPlot(x_values, y_values, \"Latitude\", \"Max Temp (F)\", \"Southern\",(-30, 50))"
   ]
  },
  {
   "cell_type": "markdown",
   "metadata": {},
   "source": [
    "The linear regression modeling for maximum temperature vs latitude for the southern hemisphere shows that there is a weak, positive correlation between maximum temperature and latitude. That is, as you go closer and closer to the equator (latitude is increasing), the max temperature increases but by not very much (as indicated by the small slope of the linear regression line). And, vice versa, as you go farther away from the equator (latitude is decreasing), the maximum temperature also decreases but by not very much (as indicated by the small slope of the linear regression line)."
   ]
  },
  {
   "cell_type": "markdown",
   "metadata": {},
   "source": [
    "####  Northern Hemisphere - Humidity (%) vs. Latitude Linear Regression"
   ]
  },
  {
   "cell_type": "code",
   "execution_count": 106,
   "metadata": {},
   "outputs": [
    {
     "name": "stdout",
     "output_type": "stream",
     "text": [
      "The r-squared is: 0.011043049272911255\n",
      "The correlation between both factors is 0.11\n"
     ]
    },
    {
     "data": {
      "text/plain": [
       "[<matplotlib.lines.Line2D at 0x7f96407800a0>]"
      ]
     },
     "execution_count": 106,
     "metadata": {},
     "output_type": "execute_result"
    },
    {
     "data": {
      "image/png": "[encoded data removed]",
      "text/plain": [
       "<Figure size 432x288 with 1 Axes>"
      ]
     },
     "metadata": {
      "needs_background": "light"
     },
     "output_type": "display_data"
    }
   ],
   "source": [
    "# Create a scatter plot for latitude vs humditiy (northern hemisphere)\n",
    "x_values = northern_hemisphere_weather_df['Latitude']\n",
    "y_values = northern_hemisphere_weather_df['Humidity']\n",
    "createLinearRegressionPlot(x_values, y_values, \"Latitude\", \"Humidity (%)\", \"Northern\",(40, 20))"
   ]
  },
  {
   "cell_type": "markdown",
   "metadata": {},
   "source": [
    "The linear regression modeling for humidity vs latitude for the northern hemisphere shows that there is a weak, positive correlation between humidity and latitude. That is, as latitude increases (you are moving farther and farther away from the equator), the humidity level increases just slightly. We can tell that the humidity level doesn't increase by much by the small slope of the linear regression line. In addition, the opposite is also true. As we move closer to the equator (latitude is decreasing), the humidity level decreases but not by very much."
   ]
  },
  {
   "cell_type": "markdown",
   "metadata": {},
   "source": [
    "####  Southern Hemisphere - Humidity (%) vs. Latitude Linear Regression"
   ]
  },
  {
   "cell_type": "code",
   "execution_count": 107,
   "metadata": {},
   "outputs": [
    {
     "name": "stdout",
     "output_type": "stream",
     "text": [
      "The r-squared is: 0.011043049272911255\n",
      "The correlation between both factors is 0.11\n"
     ]
    },
    {
     "data": {
      "text/plain": [
       "[<matplotlib.lines.Line2D at 0x7f9640983eb0>]"
      ]
     },
     "execution_count": 107,
     "metadata": {},
     "output_type": "execute_result"
    },
    {
     "data": {
      "image/png": "[encoded data removed]",
      "text/plain": [
       "<Figure size 432x288 with 1 Axes>"
      ]
     },
     "metadata": {
      "needs_background": "light"
     },
     "output_type": "display_data"
    }
   ],
   "source": [
    "# Create a scatter plot for latitude vs humditiy (southern hemisphere)\n",
    "x_values1 = southern_hemisphere_weather_df['Latitude']\n",
    "y_values1 = southern_hemisphere_weather_df['Humidity']\n",
    "createLinearRegressionPlot(x_values, y_values, \"Latitude\", \"Humidity (%)\", \"Southern\",(40, 20), 150)"
   ]
  },
  {
   "cell_type": "markdown",
   "metadata": {},
   "source": [
    "The linear regression modeling for humidity vs latitude for the southern hemisphere shows that there is a weak, positive correlation between humidity and latitude. That is, as latitude increases (you are moving closer to the equator), the humidity level increases but only slightly. We can tell that the humidity level doesn't increase by much by the small slope of the linear regression line. In addition, the opposite is also true. As we move farther away from the equator (latitude is decreasing), the humidity level decreases but not by very much. Overall, latitude does not have much of an influence on humidity in the southern hemisphere."
   ]
  },
  {
   "cell_type": "markdown",
   "metadata": {},
   "source": [
    "####  Northern Hemisphere - Cloudiness (%) vs. Latitude Linear Regression"
   ]
  },
  {
   "cell_type": "code",
   "execution_count": 108,
   "metadata": {},
   "outputs": [
    {
     "name": "stdout",
     "output_type": "stream",
     "text": [
      "The r-squared is: 0.026498160365090423\n",
      "The correlation between both factors is 0.16\n"
     ]
    },
    {
     "data": {
      "text/plain": [
       "[<matplotlib.lines.Line2D at 0x7f9640ad1d00>]"
      ]
     },
     "execution_count": 108,
     "metadata": {},
     "output_type": "execute_result"
    },
    {
     "data": {
      "image/png": "[encoded data removed]",
      "text/plain": [
       "<Figure size 432x288 with 1 Axes>"
      ]
     },
     "metadata": {
      "needs_background": "light"
     },
     "output_type": "display_data"
    }
   ],
   "source": [
    "# Create a scatter plot for latitude vs cloudiness (northern hemisphere)\n",
    "x_values = northern_hemisphere_weather_df['Latitude']\n",
    "y_values = northern_hemisphere_weather_df['Cloudiness']\n",
    "createLinearRegressionPlot(x_values, y_values, \"Latitude\", \"Cloudiness(%)\", \"Northern\",(30, 50))\n"
   ]
  },
  {
   "cell_type": "markdown",
   "metadata": {},
   "source": [
    "The linear regression modeling for cloudiness vs latitude for the northern hemisphere shows that there is a very weak (or possibly none), positive correlation between latitude and cloudiness. That is, as you move farther away from the equator (latitude increases) or as you move closer to the equator (latitude decreases), latitude does not seem to affect or have an influence on how cloudy it is. This is shown in the graph as the data points being scattered all over the place."
   ]
  },
  {
   "cell_type": "markdown",
   "metadata": {},
   "source": [
    "####  Southern Hemisphere - Cloudiness (%) vs. Latitude Linear Regression"
   ]
  },
  {
   "cell_type": "code",
   "execution_count": 109,
   "metadata": {},
   "outputs": [
    {
     "name": "stdout",
     "output_type": "stream",
     "text": [
      "The r-squared is: 0.017719139409498586\n",
      "The correlation between both factors is 0.13\n"
     ]
    },
    {
     "data": {
      "text/plain": [
       "[<matplotlib.lines.Line2D at 0x7f9640ad1070>]"
      ]
     },
     "execution_count": 109,
     "metadata": {},
     "output_type": "execute_result"
    },
    {
     "data": {
      "image/png": "[encoded data removed]",
      "text/plain": [
       "<Figure size 432x288 with 1 Axes>"
      ]
     },
     "metadata": {
      "needs_background": "light"
     },
     "output_type": "display_data"
    }
   ],
   "source": [
    "\n",
    "# Create a scatter plot for latitude vs cloudiness (southern hemisphere)\n",
    "x_values = southern_hemisphere_weather_df['Latitude']\n",
    "y_values = southern_hemisphere_weather_df['Cloudiness']\n",
    "createLinearRegressionPlot(x_values, y_values, \"Latitude\", \"Cloudiness(%)\", \"Southern\",(-45, 60))"
   ]
  },
  {
   "cell_type": "markdown",
   "metadata": {},
   "source": [
    "The linear regression modeling for cloudiness vs latitude for the southern hemisphere shows that there is a weak, positive correlation between latitude and cloudiness. That is, as you move farther away from the equator (latitude decreases) or as you move closer to the equator (latitude increases), latitude does not seem to have much of an effect or have an influence on how cloudy it is. This is shown in the graph as the data points being scattered all over the place. Also, it is important to note that although there is a weak correlation for the southern hemisphere, the correlation between cloudiness and latitude is a bit more stronger for the southern hemisphere than for the same factors for the northern hemisphere."
   ]
  },
  {
   "cell_type": "markdown",
   "metadata": {},
   "source": [
    "####  Northern Hemisphere - Wind Speed (mph) vs. Latitude Linear Regression"
   ]
  },
  {
   "cell_type": "code",
   "execution_count": 110,
   "metadata": {},
   "outputs": [
    {
     "name": "stdout",
     "output_type": "stream",
     "text": [
      "The r-squared is: 0.021401904612663177\n",
      "The correlation between both factors is 0.15\n"
     ]
    },
    {
     "data": {
      "text/plain": [
       "[<matplotlib.lines.Line2D at 0x7f9640cfeee0>]"
      ]
     },
     "execution_count": 110,
     "metadata": {},
     "output_type": "execute_result"
    },
    {
     "data": {
      "image/png": "[encoded data removed]",
      "text/plain": [
       "<Figure size 432x288 with 1 Axes>"
      ]
     },
     "metadata": {
      "needs_background": "light"
     },
     "output_type": "display_data"
    }
   ],
   "source": [
    "# Create a scatter plot for latitude vs wind speed(northern hemisphere)\n",
    "x_values = northern_hemisphere_weather_df['Latitude']\n",
    "y_values = northern_hemisphere_weather_df['Wind Speed']\n",
    "createLinearRegressionPlot(x_values, y_values, \"Latitude\", \"Wind Speed (mph)\", \"Northern\",(20, 25))"
   ]
  },
  {
   "cell_type": "markdown",
   "metadata": {},
   "source": [
    "The linear regression modeling for wind speed vs latitude for the northern hemisphere shows that there is a very weak (to almost none), positive correlation for wind speed and latitude. That is, as you go farther north away from the equator (latitude is increasing) or as you go towards the equator (latitude is decreasing), it appears as if latitude does not have much of any effect on the wind speed for cities. In fact, from the above graph, it appears that cities near and farther away from the equator in the norther hemisphere generally both have lower wind speeds despite a few outliers. This is shown in the graph as many of the data points being scattered towards the bottom half of the graph."
   ]
  },
  {
   "cell_type": "markdown",
   "metadata": {},
   "source": [
    "####  Southern Hemisphere - Wind Speed (mph) vs. Latitude Linear Regression"
   ]
  },
  {
   "cell_type": "code",
   "execution_count": 111,
   "metadata": {},
   "outputs": [
    {
     "name": "stdout",
     "output_type": "stream",
     "text": [
      "The r-squared is: 0.06058834190988938\n",
      "The correlation between both factors is -0.25\n"
     ]
    },
    {
     "data": {
      "text/plain": [
       "[<matplotlib.lines.Line2D at 0x7f9640c1e3d0>]"
      ]
     },
     "execution_count": 111,
     "metadata": {},
     "output_type": "execute_result"
    },
    {
     "data": {
      "image/png": "[encoded data removed]",
      "text/plain": [
       "<Figure size 432x288 with 1 Axes>"
      ]
     },
     "metadata": {
      "needs_background": "light"
     },
     "output_type": "display_data"
    }
   ],
   "source": [
    "# Create a scatter plot for latitude vs wind speed (southern hemisphere)\n",
    "x_values = southern_hemisphere_weather_df['Latitude']\n",
    "y_values = southern_hemisphere_weather_df['Wind Speed']\n",
    "createLinearRegressionPlot(x_values, y_values, \"Latitude\", \"Wind Speed (mph)\", \"Southern\",(-40, 25), ylim=40)"
   ]
  },
  {
   "cell_type": "markdown",
   "metadata": {},
   "source": [
    "The linear regression modeling for wind speed vs latitude for the southern hemisphere shows that there is a weak, negative correlation for wind speed and latitude. That is, as you go farther south away from the equator (latitude is decreasing), wind speed slightly increases and as you go towards the equator (latitude is increasing), wind speed slightly decreases. This is indicated in the graph by the small, negative slope of the linear regression line. Overall, the correlation between these two factors is weak. Latitude has a small influence on wind speed but not much. However, it is important to note that the correlation between these two factors for the southern hemisphere is stronger than the correlation between these two factors for the northern hemisphere."
   ]
  }
 ],
 "metadata": {
  "anaconda-cloud": {},
  "kernel_info": {
   "name": "python3"
  },
  "kernelspec": {
   "display_name": "Python 3 (ipykernel)",
   "language": "python",
   "name": "python3"
  },
  "language_info": {
   "codemirror_mode": {
    "name": "ipython",
    "version": 3
   },
   "file_extension": ".py",
   "mimetype": "text/x-python",
   "name": "python",
   "nbconvert_exporter": "python",
   "pygments_lexer": "ipython3",
   "version": "3.9.12"
  },
  "latex_envs": {
   "LaTeX_envs_menu_present": true,
   "autoclose": false,
   "autocomplete": true,
   "bibliofile": "biblio.bib",
   "cite_by": "apalike",
   "current_citInitial": 1,
   "eqLabelWithNumbers": true,
   "eqNumInitial": 1,
   "hotkeys": {
    "equation": "Ctrl-E",
    "itemize": "Ctrl-I"
   },
   "labels_anchors": false,
   "latex_user_defs": false,
   "report_style_numbering": false,
   "user_envs_cfg": false
  },
  "nteract": {
   "version": "0.12.3"
  }
 },
 "nbformat": 4,
 "nbformat_minor": 2
}
